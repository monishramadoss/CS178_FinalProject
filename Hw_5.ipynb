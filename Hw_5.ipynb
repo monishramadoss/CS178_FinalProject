{
 "cells": [
  {
   "cell_type": "code",
   "execution_count": 75,
   "metadata": {},
   "outputs": [
    {
     "name": "stderr",
     "output_type": "stream",
     "text": [
      "[nltk_data] Downloading package reuters to\n",
      "[nltk_data]     C:\\Users\\bgalk\\AppData\\Roaming\\nltk_data...\n",
      "[nltk_data]   Package reuters is already up-to-date!\n",
      "[nltk_data] Downloading package stopwords to\n",
      "[nltk_data]     C:\\Users\\bgalk\\AppData\\Roaming\\nltk_data...\n",
      "[nltk_data]   Package stopwords is already up-to-date!\n",
      "[nltk_data] Downloading package punkt to\n",
      "[nltk_data]     C:\\Users\\bgalk\\AppData\\Roaming\\nltk_data...\n",
      "[nltk_data]   Package reuters is already up-to-date!\n",
      "[nltk_data] Downloading package stopwords to\n",
      "[nltk_data]   Package stopwords is already up-to-date!\n",
      "[nltk_data] Downloading package punkt to\n",
      "[nltk_data]     /Users/sanchitsinha/nltk_data...\n",
      "[nltk_data]   Package punkt is already up-to-date!\n"
     ]
    }
   ],
   "source": [
    "from concurrent import futures\n",
    "import nltk\n",
    "from nltk.corpus import reuters, stopwords\n",
    "from scipy import sparse\n",
    "import string\n",
    "from collections import defaultdict, Counter\n",
    "import numpy as np\n",
    "import os\n",
    "import sys\n",
    "\n",
    "from nltk.tokenize import word_tokenize\n",
    "import sklearn\n",
    "from sklearn import svm\n",
    "from sklearn.cluster import KMeans\n",
    "from sklearn.linear_model import LogisticRegression\n",
    "from sklearn.naive_bayes import BernoulliNB\n",
    "from sklearn.naive_bayes import GaussianNB\n",
    "from sklearn.model_selection import KFold\n",
    "%matplotlib inline\n",
    "import matplotlib.pyplot as plt\n",
    "from nltk.util import ngrams\n",
    "import re\n",
    "NUM_THREADS = 24\n",
    "\n",
    "from sklearn.linear_model import LogisticRegression\n",
    "from sklearn import svm\n",
    "from sklearn.neighbors import KNeighborsClassifier\n",
    "\n",
    "nltk.download('reuters')\n",
    "nltk.download('stopwords')\n",
    "nltk.download('punkt')\n",
    "\n",
    "reuters_freqThreshold = 5000\n",
    "shakespeare_freqThreshold = 5000"
   ]
  },
  {
   "cell_type": "markdown",
   "metadata": {},
   "source": [
    "## Reuters Data Scrubbing"
   ]
  },
  {
   "cell_type": "code",
   "execution_count": 16,
   "metadata": {
    "scrolled": true
   },
   "outputs": [
    {
     "name": "stdout",
     "output_type": "stream",
     "text": [
      "10788\n"
     ]
    }
   ],
   "source": [
    "all_files = reuters.fileids()\n",
    "file_count = len(all_files)\n",
    "print(len(reuters.fileids()))\n",
    "punctuation = string.punctuation.replace(\"'\", \"\")\n",
    "stopset = set(stopwords.words(\"english\"))\n",
    "\n",
    "def thread_task(rawWords):\n",
    "    freqMap = defaultdict(int)\n",
    "    #convert to lowercase\n",
    "    lower = [word.lower() for word in rawWords]\n",
    "    \n",
    "    #remove punctuation from tokens\n",
    "    punc_filter = str.maketrans('', '', punctuation)\n",
    "    stripped = [word.translate(punc_filter) for word in lower]\n",
    "    \n",
    "    #remove remaining alphanumerics\n",
    "    words = [word for word in stripped if word.isalpha()]\n",
    "    \n",
    "    #filter out basic stopwords\n",
    "    cleaned_word_bank = [word for word in words if word not in stopset]\n",
    "    \n",
    "    for word in cleaned_word_bank:\n",
    "        freqMap[word] += 1\n",
    "    return freqMap\n",
    "\n",
    "def thread_exec(WORDS):\n",
    "    with futures.ThreadPoolExecutor(max_workers=NUM_THREADS) as ex:\n",
    "        results = list(ex.map(thread_task, WORDS))\n",
    "    return results\n"
   ]
  },
  {
   "cell_type": "code",
   "execution_count": 15,
   "metadata": {},
   "outputs": [
    {
     "name": "stdout",
     "output_type": "stream",
     "text": [
      "(5000,)\n"
     ]
    }
   ],
   "source": [
    "freqMap = defaultdict(int)\n",
    "REUTERS_WORDS = [[str(word) for word in reuters.words(file)] for file in reuters.fileids()]\n",
    "t = thread_exec(REUTERS_WORDS)\n",
    "for ifreqMap in t:\n",
    "    for k in ifreqMap.keys():    \n",
    "        freqMap[k] += ifreqMap[k]    \n",
    "        \n",
    "freqTuples = list(freqMap.items())\n",
    "sorted_freq = freqTuples.sort(key= lambda x: x[1], reverse=True)\n",
    "topTuples_r = freqTuples[:reuters_freqThreshold]\n",
    "filtered_vocab = [tup[0] for tup in topTuples_r]\n",
    "reuters_vocab_np = np.asarray(filtered_vocab, dtype='str')\n",
    "print(reuters_vocab_np.shape)"
   ]
  },
  {
   "cell_type": "markdown",
   "metadata": {},
   "source": [
    "## Shakespeare Data Scrubbing"
   ]
  },
  {
   "cell_type": "code",
   "execution_count": 16,
   "metadata": {
    "collapsed": true
   },
   "outputs": [],
   "source": [
    "folder = './Shake_works'\n",
    "sub = \"[^a-zA-Z' ]+\"\n",
    "all_files = [file for t,y, file in os.walk(folder)][0]\n",
    "stopset = set(stopwords.words(\"english\"))\n",
    "\n",
    "def thread_task(rawWords):\n",
    "    freqMap = defaultdict(int)\n",
    "    words = [re.sub(sub, '', word) for word in rawWords]\n",
    "    lower = [word.lower() for word in words]\n",
    "    words = [word for word in lower if word.isalpha()]\n",
    "    cleaned_word_bank = [word for word in words if word not in stopset]    \n",
    "    \n",
    "    for word in cleaned_word_bank:\n",
    "        freqMap[word] += 1\n",
    "    return freqMap\n",
    "\n",
    "def thread_exec(WORDS):\n",
    "    with futures.ThreadPoolExecutor(max_workers=NUM_THREADS) as ex:\n",
    "        results = list(ex.map(thread_task, WORDS))\n",
    "    return results\n",
    "    "
   ]
  },
  {
   "cell_type": "code",
   "execution_count": 17,
   "metadata": {},
   "outputs": [
    {
     "name": "stdout",
     "output_type": "stream",
     "text": [
      "(5000,)\n"
     ]
    }
   ],
   "source": [
    "freqMap = defaultdict(int)\n",
    "SHAKESPEARE_WORDS = [[str(word) for word in open(folder+'/'+file).read().split()] for file in all_files]\n",
    "t = thread_exec(SHAKESPEARE_WORDS)\n",
    "for ifreqMap in t:\n",
    "    for k in ifreqMap.keys():    \n",
    "        freqMap[k] += ifreqMap[k]   \n",
    "        \n",
    "freqTuples = list(freqMap.items())\n",
    "sorted_freq = freqTuples.sort(key= lambda x: x[1], reverse=True)\n",
    "topTuples_s = freqTuples[:shakespeare_freqThreshold]\n",
    "filtered_vocab = [tup[0] for tup in topTuples_s]\n",
    "shakespeare_vocab_np = np.asarray(filtered_vocab, dtype='str')\n",
    "print(shakespeare_vocab_np.shape)"
   ]
  },
  {
   "cell_type": "markdown",
   "metadata": {},
   "source": [
    "## Outputting top words/frequencies to a file"
   ]
  },
  {
   "cell_type": "code",
   "execution_count": 18,
   "metadata": {
    "collapsed": true
   },
   "outputs": [],
   "source": [
    "reuters_freq_file = open(\"reuters_frequencies.txt\", \"w+\")\n",
    "shakes_freq_file = open(\"shakes_frequencies.txt\", \"w+\")\n",
    "\n",
    "for tup in topTuples_r:\n",
    "    reuters_freq_file.write(f\"{tup[0]}, {tup[1]}\")\n",
    "for tup in topTuples_s:\n",
    "    shakes_freq_file.write(f\"{tup[0]}, {tup[1]}\")\n",
    "    \n",
    "reuters_freq_file.close()\n",
    "shakes_freq_file.close()"
   ]
  },
  {
   "cell_type": "markdown",
   "metadata": {},
   "source": [
    "# PreProcessing"
   ]
  },
  {
   "cell_type": "code",
   "execution_count": 7,
   "outputs": [
    {
     "name": "stdout",
     "output_type": "stream",
     "text": [
      "(8586,)\n"
     ]
    },
    {
     "data": {
      "application/vnd.jupyter.widget-view+json": {
       "model_id": "6826311874594e4d9267d5f1488395d7",
       "version_major": 2,
       "version_minor": 0
      },
      "text/plain": [
       "VBox(children=(HTML(value=''), IntProgress(value=0, max=42)))"
      ]
     },
     "metadata": {},
     "output_type": "display_data"
    },
    {
     "data": {
      "application/vnd.jupyter.widget-view+json": {
       "model_id": "e8afb35c8adc47c0bacfba12bd1d1cd7",
       "version_major": 2,
       "version_minor": 0
      },
      "text/plain": [
       "VBox(children=(HTML(value=''), IntProgress(value=0, max=10788)))"
      ]
     },
     "metadata": {},
     "output_type": "display_data"
    }
   ],
   "source": [
    "from ipywidgets import IntProgress, HTML, VBox\n",
    "from IPython.display import display\n",
    "\n",
    "vocab = reuters_vocab_np\n",
    "tmp = list()\n",
    "for word in shakespeare_vocab_np:\n",
    "    if(word not in vocab):\n",
    "        tmp.append(word)\n",
    "vocab = np.append(vocab, tmp)\n",
    "print(vocab.shape)\n",
    "\n",
    "\n",
    "shakespeare_data = []\n",
    "i=0\n",
    "punc_filter = str.maketrans('', '', punctuation)\n",
    "progress = IntProgress(min=0, max=len(SHAKESPEARE_WORDS))\n",
    "label = HTML()\n",
    "box = VBox(children=[label, progress])\n",
    "display(box)\n",
    "for doc in SHAKESPEARE_WORDS:\n",
    "    shakespeare_data.append(np.zeros(vocab.shape))\n",
    "    #print(doc)\n",
    "    for word in doc:\n",
    "        word = re.sub(sub,'',word).lower()\n",
    "        shakespeare_data[i][vocab==word] = 1.0\n",
    "    i+=1\n",
    "    progress.value += 1\n",
    "    label.value = u'{name}: {index} / {size}'.format(\n",
    "                        name=\"Docs\",\n",
    "                        index=i,\n",
    "                        size=len(SHAKESPEARE_WORDS)\n",
    "                    )\n",
    "shakespeare_data = np.array(shakespeare_data)   \n",
    "\n",
    "\n",
    "reuters_data = []\n",
    "i=0\n",
    "punc_filter = str.maketrans('', '', punctuation)\n",
    "progress = IntProgress(min=0, max=len(REUTERS_WORDS))\n",
    "label = HTML()\n",
    "box = VBox(children=[label, progress])\n",
    "display(box)\n",
    "for doc in REUTERS_WORDS:\n",
    "    reuters_data.append(np.zeros(vocab.shape))\n",
    "    for word in doc:\n",
    "        word = word.lower()\n",
    "        word = word.translate(punc_filter)\n",
    "        reuters_data[i][vocab==word] = 1.0\n",
    "    i+=1   \n",
    "    progress.value += 1\n",
    "    label.value = u'{name}: {index} / {size}'.format(\n",
    "                        name=\"Docs\",\n",
    "                        index=i,\n",
    "                        size=len(REUTERS_WORDS)\n",
    "                    )\n",
    "reuters_data = np.array(reuters_data)\n"
   ]
  },
  {
   "cell_type": "code",
   "execution_count": 62,
   "metadata": {},
   "outputs": [
    {
     "name": "stdout",
     "output_type": "stream",
     "text": [
      "(10830, 8584)\n",
      "(10830,)\n",
      "(8584,)\n"
     ]
    }
   ],
   "source": [
    "X = shakespeare_data\n",
    "y = np.zeros(X.shape[0])\n",
    "\n",
    "X = np.concatenate((X, reuters_data), axis=0)\n",
    "y = np.concatenate((y, np.ones(reuters_data.shape[0])), axis=0)\n",
    "\n",
    "vocab = np.array(vocab, dtype=np.str)\n",
    "\n",
    "print(X.shape)\n",
    "print(y.shape)\n",
    "print(vocab.shape)\n",
    "\n",
    "X.dump('X')\n",
    "y.dump('y')\n",
    "vocab.dump('vocab')"
   ]
  },
  {
   "cell_type": "markdown",
   "metadata": {},
   "source": [
    "# Training"
   ]
  },
  {
   "cell_type": "code",
   "execution_count": 63,
   "metadata": {},
   "outputs": [],
   "source": [
    "X = np.load('X')\n",
    "y = np.load('y')\n",
    "vocab = np.load('vocab')\n",
    "Model_List = list()\n"
   ]
  },
  {
   "cell_type": "code",
   "execution_count": 27,
   "metadata": {},
   "outputs": [],
   "source": [
    "def difference(l1,l2):\n",
    "    precisionError = len([b for a,b in zip(l1,l2) if b != a and b == 0 and a == 1])\n",
    "    recallError = len([b for a,b in zip(l1,l2) if b != a and b == 1 and a == 0])\n",
    "    print(\"Precision Error is \" + str(precisionError))\n",
    "    print(\"Recall Error is \" + str(recallError))\n",
    "\n",
    "    return (precisionError) + (recallError)\n",
    "\n",
    "def runModels(clf, Xtr, Ytr):\n",
    "    kf = KFold(n_splits=5)    \n",
    "    differencesB = []\n",
    "    differencesG = []\n",
    "\n",
    "    for train_index, test_index in kf.split(Xtr):\n",
    "        x_train, x_test = [Xtr[i] for i in train_index], [Xtr[i] for i in test_index]\n",
    "        y_train, y_test = [Ytr[i] for i in train_index], [Ytr[i] for i in test_index]    \n",
    "        clf.fit(x_train,y_train)\n",
    "        print(clf.predict(x_test))\n",
    "        Model_List.append(clf)\n",
    "        differencesB.append(difference(clf.predict(x_test), y_test) / len(y_test))\n",
    "    print()\n",
    "    return differencesB, differencesG"
   ]
  },
  {
   "cell_type": "code",
   "execution_count": 65,
   "metadata": {},
   "outputs": [
    {
     "name": "stderr",
     "output_type": "stream",
     "text": [
      "C:\\Users\\bgalk\\Anaconda3\\lib\\site-packages\\sklearn\\naive_bayes.py:465: RuntimeWarning: divide by zero encountered in log\n",
      "  self.class_log_prior_ = (np.log(self.class_count_) -\n"
     ]
    },
    {
     "name": "stdout",
     "output_type": "stream",
     "text": [
      "[1. 1. 1. ... 1. 1. 1.]\n",
      "Precision Error is 42\n",
      "Recall Error is 0\n",
      "[1. 1. 1. ... 1. 1. 1.]\n",
      "Precision Error is 0\n",
      "Recall Error is 0\n",
      "[1. 1. 1. ... 1. 1. 1.]\n",
      "Precision Error is 0\n",
      "Recall Error is 0\n",
      "[1. 1. 1. ... 1. 1. 1.]\n",
      "Precision Error is 0\n",
      "Recall Error is 0\n",
      "[1. 1. 1. ... 1. 1. 1.]\n",
      "Precision Error is 0\n",
      "Recall Error is 0\n",
      "\n",
      "([0.019390581717451522, 0.0, 0.0, 0.0, 0.0], [])\n",
      "[1. 1. 1. ... 1. 1. 1.]\n",
      "Precision Error is 42\n",
      "Recall Error is 0\n",
      "[1. 1. 1. ... 1. 1. 1.]\n",
      "Precision Error is 0\n",
      "Recall Error is 0\n",
      "[1. 1. 1. ... 1. 1. 1.]\n",
      "Precision Error is 0\n",
      "Recall Error is 0\n",
      "[1. 1. 1. ... 1. 1. 1.]\n",
      "Precision Error is 0\n",
      "Recall Error is 0\n",
      "[1. 1. 1. ... 1. 1. 1.]\n",
      "Precision Error is 0\n",
      "Recall Error is 0\n",
      "\n",
      "([0.019390581717451522, 0.0, 0.0, 0.0, 0.0], [])\n"
     ]
    }
   ],
   "source": [
    "print(runModels(BernoulliNB(), X, y))\n",
    "print(runModels(GaussianNB(), X, y))\n",
    "#print(runModels)"
   ]
  },
  {
   "cell_type": "markdown",
   "metadata": {},
   "source": [
    "# Validation"
   ]
  },
  {
   "cell_type": "code",
   "execution_count": 66,
   "metadata": {},
   "outputs": [
    {
     "name": "stdout",
     "output_type": "stream",
     "text": [
      "separating start\n",
      "seperated docs\n",
      "splitting shakespere\n",
      "split shakespeare done\n",
      "split shakespere done\n",
      "training\n",
      "[[1. 1. 0. ... 0. 0. 0.]\n",
      " [1. 0. 0. ... 0. 0. 0.]\n",
      " [1. 0. 0. ... 0. 0. 0.]\n",
      " ...\n",
      " [0. 0. 1. ... 0. 0. 0.]\n",
      " [0. 1. 1. ... 0. 0. 0.]\n",
      " [0. 1. 1. ... 0. 0. 0.]]\n"
     ]
    }
   ],
   "source": [
    "# custom k-fold cross validation code\n",
    "# custom k-fold cross validation code\n",
    "\n",
    "# def k_fold(X, Y1, Y2,folds)\n",
    "#     split_size = X.shape[0]//folds\n",
    "#     splits = []\n",
    "#     for i in range(folds):\n",
    "#         start = split_size*i\n",
    "#         end = (split_size*(i+1))\n",
    "#         validation = (X[start:end,], Y[start:end])\n",
    "#         train_x = np.append(X[:start,], X[end:,])\n",
    "#         train_y = np.append(Y[:start],Y[end:])\n",
    "#         training = (np.atleast_2d(train_x).T, train_y)\n",
    "#         splits.append((training, validation))\n",
    "#     return splits\n",
    "\n",
    "fold_error = []\n",
    "print(\"separating start\")\n",
    "X_s = X[y==0]\n",
    "X_r = X[y==1]\n",
    "\n",
    "Y_s = np.zeros(X_s.shape[0])\n",
    "Y_r = np.ones(X_r.shape[0])\n",
    "\n",
    "print(\"seperated docs\")\n",
    "\n",
    "## 5 -> 8 shakespere docs\n",
    "## 5 -> ~2k reuters docs\n",
    "folds = KFold(n_splits=5, random_state=None, shuffle=False)\n",
    "splits = []\n",
    "training_sx = []\n",
    "training_sy = []\n",
    "\n",
    "validation_sx = []\n",
    "validation_sy = []\n",
    "\n",
    "\n",
    "training_rx = []\n",
    "training_ry = []\n",
    "validation_rx = []\n",
    "validation_ry = []\n",
    "\n",
    "differencesB = []\n",
    "\n",
    "\n",
    "print(\"splitting shakespere\")\n",
    "for train_index, test_index in folds.split(X_s, Y_s):\n",
    "    x_tr, x_validation = X_s[train_index], X_s[test_index]\n",
    "    y_tr, y_validation = Y_s[train_index], Y_s[test_index]\n",
    "    training_sx.append(x_tr)\n",
    "    training_sy.append(y_tr)\n",
    "    validation_sx.append(x_validation) \n",
    "    validation_sy.append(y_validation)\n",
    "print(\"split shakespeare done\")\n",
    "    \n",
    "for train_index, test_index in folds.split(X_r, Y_r):\n",
    "    x_tr, x_validation = X_r[train_index], X_r[test_index]\n",
    "    y_tr, y_validation = Y_r[train_index], Y_r[test_index]\n",
    "    training_rx.append(x_tr)\n",
    "    training_ry.append(y_tr)\n",
    "    validation_rx.append(x_validation) \n",
    "    validation_ry.append(y_validation)\n",
    "print(\"split shakespere done\")\n",
    "\n",
    "print(\"training\")\n",
    "\n",
    "print(training_rx[0])\n",
    "def validate(clf, name):\n",
    "    for i in range(len(training_sx)):\n",
    "        training_global_x = (np.concatenate((training_sx[i], training_rx[i]), axis=0))\n",
    "        training_global_y = (np.concatenate((training_sy[i], training_ry[i]), axis=0))\n",
    "        validation_global_x = (np.concatenate((validation_sx[i], validation_rx[i]), axis=0))\n",
    "        validation_global_y = (np.concatenate((validation_sy[i], validation_ry[i]), axis=0))\n",
    "\n",
    "        clf.fit(training_global_x,training_global_y)\n",
    "\n",
    "        pred = (clf.predict(validation_global_x))\n",
    "        print(name, clf.score(validation_global_x, validation_global_y))\n",
    "\n",
    "        if (i == 3):\n",
    "            print(np.where((pred==validation_global_y)==False))\n",
    "        differencesB.append(difference(pred, validation_global_y) / len(validation_global_y))\n",
    "    print()\n",
    "\n",
    "# fold_error.append(cross_validation_error(5, splits))\n",
    "\n"
   ]
  },
  {
   "cell_type": "code",
   "execution_count": 45,
   "metadata": {
    "scrolled": true
   },
   "outputs": [],
   "source": [
    "validate(BernoulliNB(), 'Naive Bayes')\n",
    "validate(GaussianNB(), 'G Naive Bayes')"
   ]
  },
  {
   "cell_type": "markdown",
   "metadata": {},
   "source": [
    "# Prediction"
   ]
  },
  {
   "cell_type": "markdown",
   "metadata": {},
   "source": [
    "### Preparing test documents to classify"
   ]
  },
  {
   "cell_type": "code",
   "execution_count": 46,
   "metadata": {},
   "outputs": [
    {
     "name": "stdout",
     "output_type": "stream",
     "text": [
      "(8584,)\n",
      "[1. 0. 0. ... 1. 1. 1.]\n"
     ]
    }
   ],
   "source": [
    "## creating test documents to run classificaiton on\n",
    "all_files = reuters.fileids()\n",
    "\n",
    "\n",
    "# vectors of document tokens\n",
    "test_vectorR = [w.lower() for w in reuters.words(all_files[0])]\n",
    "\n",
    "test_vectorS = [w.lower() for w in SHAKESPEARE_WORDS[0]]\n",
    "\n",
    "test_mergedS =  [w.lower() for w in SHAKESPEARE_WORDS[1]]\n",
    "\n",
    "test_mergedS.extend(test_vectorS)\n",
    "\n",
    "test_mergedS = np.random.choice(test_mergedS, len(SHAKESPEARE_WORDS[1]))\n",
    "\n",
    "\n",
    "sparse_R = np.zeros(vocab.shape)\n",
    "sparse_S = np.zeros(vocab.shape)\n",
    "sparse_M = np.zeros(vocab.shape)\n",
    "\n",
    "# vectorizing array of tokens\n",
    "for w in test_vectorR:\n",
    "    i, = np.where(vocab == w)\n",
    "    sparse_R[i] = 1\n",
    "    \n",
    "for w in test_vectorS:\n",
    "    i, = np.where(vocab == w)\n",
    "    sparse_S[i] = 1\n",
    "    \n",
    "for w in test_mergedS:\n",
    "    i, = np.where(vocab == w)\n",
    "    sparse_M[i] = 1\n",
    "\n",
    "# sanity check\n",
    "print(sparse_M.shape)\n",
    "print(sparse_M)"
   ]
  },
  {
   "cell_type": "markdown",
   "metadata": {},
   "source": [
    "### Classifying the prepared test documents"
   ]
  },
  {
   "cell_type": "code",
   "execution_count": 47,
   "metadata": {},
   "outputs": [
    {
     "name": "stdout",
     "output_type": "stream",
     "text": [
      "[0.]\n"
     ]
    }
   ],
   "source": [
    "X_s = shakespeare_data\n",
    "X_r = reuters_data\n",
    "\n",
    "Y_s = np.zeros(X_s.shape[0])\n",
    "Y_r = np.ones(X_r.shape[0])\n",
    "\n",
    "X = np.concatenate((X_s, X_r), axis=0)\n",
    "Y = np.concatenate((Y_s, Y_r), axis=0)\n",
    "\n",
    "clf = BernoulliNB()\n",
    "clf.fit(X,Y)\n",
    "\n",
    "pred = (clf.predict([sparse_M]))\n",
    "print(pred)"
   ]
  },
  {
   "cell_type": "markdown",
   "metadata": {},
   "source": [
    "# Rare Words"
   ]
  },
  {
   "cell_type": "code",
   "execution_count": null,
   "metadata": {},
   "outputs": [],
   "source": []
  },
  {
   "cell_type": "markdown",
   "metadata": {},
   "source": [
    "# Visualization"
   ]
  },
  {
   "cell_type": "markdown",
   "metadata": {},
   "source": [
    "## Error Rate vs Threshold [work in progress]"
   ]
  },
  {
   "cell_type": "code",
   "execution_count": 48,
   "metadata": {},
   "outputs": [],
   "source": [
    "threshold_values = [100, 1000, 2000, 3000, 5000]\n",
    "\n",
    "# test_vector -> tokenized doc\n",
    "# vocab -> merged vocab\n",
    "def vectorize(test_vector,vocab):\n",
    "    sparse = np.zeros(vocab.shape)\n",
    "    for w in test_vector:\n",
    "        i, = np.where(vocab == w)\n",
    "        sparse[i] = 1\n",
    "    return sparse\n",
    "        \n",
    "        \n",
    "for threshold in threshold_values:\n",
    "    top_s= shakespeare_vocab_np[:threshold]\n",
    "    top_r = reuters_vocab_np[:threshold]\n",
    "    \n",
    "    intersect = np.intersect1d(top_s, top_r)\n",
    "    vocab = np.concatenate((top_s, top_r), axis=0)\n",
    "    vocab = np.array([v for v in vocab if v not in intersect])\n",
    "    \n",
    "   "
   ]
  },
  {
   "cell_type": "markdown",
   "metadata": {},
   "source": [
    "## TSNE Corpus Visualization"
   ]
  },
  {
   "cell_type": "code",
   "execution_count": 49,
   "metadata": {},
   "outputs": [],
   "source": [
    "def process_words(raw_words: 'list of str'):\n",
    "    '''Filters raw word list then returns single string version'''\n",
    "    #convert to lowercase\n",
    "    lower = [word.lower() for word in raw_words]\n",
    "    \n",
    "    #remove punctuation from tokens\n",
    "    punc_filter = str.maketrans('', '', punctuation)\n",
    "    stripped = [word.translate(punc_filter) for word in lower]\n",
    "    \n",
    "    #remove remaining alphanumerics\n",
    "    words = [word for word in stripped if word.isalpha()]\n",
    "    \n",
    "    #filter out basic stopwords\n",
    "    cleaned_word_bank = [word + ' ' for word in words if word not in stopset]\n",
    "    return ''.join(cleaned_word_bank)\n"
   ]
  },
  {
   "cell_type": "code",
   "execution_count": 20,
   "metadata": {
    "collapsed": true
   },
   "execution_count": 62,
   "metadata": {},
   "outputs": [
    {
     "name": "stdout",
     "output_type": "stream",
     "text": [
      "2000s BBC2.txt\n",
      "2000s BBC1.txt\n",
      "1800s The Parisians, v10.txt\n",
      "1800s london_medical_gazette.txt\n",
      "1800s Castle Richmond.txt\n",
      "1800s A Tale of Two Cities.txt\n",
      "1800s Chamber's journal.txt\n",
      "1900s tech1.txt\n",
      "1900s 1900s1.txt\n",
      "1600s Old Mortality.txt\n",
      "1600s hist1.txt\n",
      "1600s The Bride of Lammermoor.txt\n",
      "1600s The Black Tulip.txt\n",
      "1700s The Antiquary.txt\n",
      "1700s poets.txt\n",
      "1700s scottish_story.txt\n",
      "1700s The Maid of Maiden Lane.txt\n",
      "1700s The Surgeon's Daughter.txt\n"
     ]
    }
   ],
   "source": [
    "from yellowbrick.text import TSNEVisualizer\n",
    "from sklearn.feature_extraction.text import TfidfVectorizer\n",
    "from sklearn.datasets.base import Bunch\n",
    "from yellowbrick.style import set_palette\n",
    "\n",
    "shake_folder = './Shake_works'\n",
    "textData_folder = './TextData'\n",
    "all_shake_files = [file for t,y, file in os.walk(shake_folder)][0]\n",
    "textData_dict = {}\n",
    "for _,folder,_ in os.walk(textData_folder):\n",
    "    for f in folder:\n",
    "        textData_dict[f] = [file for t,y,file in os.walk(textData_folder+'/'+f)][0]\n",
    "        \n",
    "punctuation = string.punctuation.replace(\"'\", \"\")\n",
    "stopset = set(stopwords.words(\"english\"))\n",
    "\n",
    "# Load raw text data and labels simultaneously\n",
    "data = []\n",
    "labels = []\n",
    "\n",
    "subset = np.random.choice(reuters.fileids(), 158)\n",
    "# Reuters\n",
    "for file in subset:\n",
    "    raw_words = [str(word) for word in reuters.words(file)]\n",
    "    processed = process_words(raw_words)\n",
    "    data.append(processed)\n",
    "    labels.append('Reuters')\n",
    "    \n",
    "# Shakespeare\n",
    "for file in all_shake_files:\n",
    "    raw_words = [str(word) for word in open(shake_folder+'/'+file).read().split()]\n",
    "    processed = process_words(raw_words)\n",
    "    data.append(processed)\n",
    "    labels.append('Shakespeare')\n",
    "\n",
    "# TextData\n",
    "for time in textData_dict:\n",
    "    for file in textData_dict[time]:\n",
    "        print(time, file)\n",
    "        try:\n",
    "            raw_words = [str(word) for word in open(textData_folder+'/'+time+'/'+file, encoding='utf8').read().split()]\n",
    "        except:\n",
    "            continue\n",
    "        processed = process_words(raw_words)\n",
    "        data.append(processed)\n",
    "        labels.append(time)\n",
    "corpus = Bunch(\n",
    "    data=data,\n",
    "    target=labels\n",
    ")"
   ]
  },
  {
   "cell_type": "code",
   "execution_count": 51,
   "metadata": {},
   "outputs": [
    {
     "name": "stderr",
     "output_type": "stream",
     "text": [
      "'c' argument looks like a single numeric RGB or RGBA sequence, which should be avoided as value-mapping will have precedence in case its length matches with 'x' & 'y'.  Please use a 2-D array with a single row if you really want to specify the same RGB or RGBA value for all points.\n",
      "'c' argument looks like a single numeric RGB or RGBA sequence, which should be avoided as value-mapping will have precedence in case its length matches with 'x' & 'y'.  Please use a 2-D array with a single row if you really want to specify the same RGB or RGBA value for all points.\n"
     ]
    },
    {
     "data": {
      "image/png": "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\n",
      "text/plain": [
       "<Figure size 432x288 with 1 Axes>"
      ]
     },
     "metadata": {},
     "output_type": "display_data"
    }
   ],
   "source": [
    "# Fit tf-idf vectorizer\n",
    "TF_IDF = TfidfVectorizer()\n",
    "docs = TF_IDF.fit_transform(corpus.data)\n",
    "\n",
    "# Set color palette for plotting\n",
    "set_palette('sns_bright')\n",
    "\n",
    "# Construct visualizer and draw vectors\n",
    "tsne = TSNEVisualizer()\n",
    "tsne.fit(docs, corpus.target)\n",
    "tsne.poof()\n"
   ]
  },
  {
   "cell_type": "markdown",
   "metadata": {},
   "source": [
    "## Feature Selection **requires all earlier cells**"
   ]
  },
  {
   "cell_type": "code",
<<<<<<< HEAD
   "execution_count": 37,
   "metadata": {},
   "outputs": [],
   "source": [
    "from sklearn.decomposition import TruncatedSVD\n",
    "print('---------------------\\nTruncated SVD Reuters\\n---------------------')\n",
    "\n",
    "SVD = TruncatedSVD(n_components=10, n_iter=30)\n",
    "SVD.fit_transform(reuters_data)\n",
    "\n",
    "print('Top 10 Reuters words account for {}% of overall variance'.format(round(SVD.explained_variance_ratio_.sum()*100, 2)))\n",
    "best_features = [vocab[i] for i in SVD.components_[0].argsort()[::-1]]\n",
    "\n",
    "i = 0\n",
    "for feature in best_features:\n",
    "    #if len(feature) >= 3:\n",
    "    print(feature)\n",
    "    i += 1\n",
    "    if i > 10:\n",
    "        break\n",
    "        \n",
    "print('\\n\\n')\n",
    "print('--------------------------\\nTruncated SVD Shakespeare\\n--------------------------')\n",
    "SVD = TruncatedSVD(n_components=10, n_iter=30)\n",
    "SVD.fit_transform(shakespeare_data)\n",
    "\n",
    "print('Top 10 Shakespeare words account for {}% of overall variance'.format(round(SVD.explained_variance_ratio_.sum()*100, 2)))\n",
    "best_features = [vocab[i] for i in SVD.components_[0].argsort()[::-1]]\n",
    "\n",
    "i = 0\n",
    "for feature in best_features:\n",
    "    print(feature)\n",
    "    i += 1\n",
    "    if i > 10:\n",
    "        break\n",
    "        "
   ]
  },
  {
   "cell_type": "code",
   "execution_count": 38,
   "metadata": {},
   "outputs": [],
   "source": [
    "def predict(clf, model, doc):\n",
    "    print(\"Prediction for model: \" + model)\n",
    "    print(clf.predict([doc]))"
   ]
  },
  {
   "cell_type": "markdown",
   "metadata": {},
   "source": [
    "# Demos"
   ]
  },
  {
   "cell_type": "code",
   "execution_count": 39,
   "metadata": {},
   "outputs": [],
   "source": [
    "from os import listdir\n",
    "from os.path import isfile, join\n",
    "\n",
    "\n",
    "def runCentury(century, clf, desc):\n",
    "    print(\"Classification of documents from the \" + century)\n",
    "\n",
    "    onlyfiles = [f for f in listdir(\"TextData/\"+century) if isfile(join(\"TextData/\"+century, f))]\n",
    "\n",
    "    for f in onlyfiles:\n",
    "        doc = []\n",
    "        with open(filename, encoding=\"utf8\") as f:\n",
    "            doc = vectorize(f, vocab)\n",
    "\n",
    "        predict(clf, desc, doc)\n"
   ]
  },
  {
   "cell_type": "code",
   "execution_count": 40,
   "metadata": {},
=======
   "execution_count": 95,
   "metadata": {
    "scrolled": true
   },
>>>>>>> 46e41b9db772d472c167e871a6dc998892fa0a8e
   "outputs": [
    {
     "name": "stdout",
     "output_type": "stream",
     "text": [
      "---------------------\n",
      "Truncated SVD Reuters\n",
      "---------------------\n",
      "Top 10 Reuters words account for 13.84% of overall variance\n",
      "said\n",
      "lt\n",
      "mln\n",
      "dlrs\n",
      "year\n",
      "pct\n",
      "would\n",
      "company\n",
      "inc\n",
      "u\n",
      "last\n",
      "\n",
      "\n",
      "\n",
      "--------------------------\n",
      "Truncated SVD Shakespeare\n",
      "--------------------------\n",
      "Top 10 Shakespeare words account for 32.53% of overall variance\n",
      "come\n",
      "hath\n",
      "thy\n",
      "thou\n",
      "cannot\n",
      "saw\n",
      "well\n",
      "fair\n",
      "dead\n",
      "rest\n",
      "true\n"
     ]
    }
   ],
   "source": [
    "from sklearn.decomposition import TruncatedSVD\n",
    "print('---------------------\\nTruncated SVD Reuters\\n---------------------')\n",
    "\n",
    "SVD = TruncatedSVD(n_components=10, n_iter=30)\n",
    "SVD.fit_transform(reuters_data)\n",
    "\n",
    "print('Top 10 Reuters words account for {}% of overall variance'.format(round(SVD.explained_variance_ratio_.sum()*100, 2)))\n",
    "best_features = [vocab[i] for i in SVD.components_[0].argsort()[::-1]]\n",
    "\n",
    "i = 0\n",
    "for feature in best_features:\n",
    "    #if len(feature) >= 3:\n",
    "    print(feature)\n",
    "    i += 1\n",
    "    if i > 10:\n",
    "        break\n",
    "        \n",
    "print('\\n\\n')\n",
    "print('--------------------------\\nTruncated SVD Shakespeare\\n--------------------------')\n",
    "SVD = TruncatedSVD(n_components=10, n_iter=30)\n",
    "SVD.fit_transform(shakespeare_data)\n",
    "\n",
    "print('Top 10 Shakespeare words account for {}% of overall variance'.format(round(SVD.explained_variance_ratio_.sum()*100, 2)))\n",
    "best_features = [vocab[i] for i in SVD.components_[0].argsort()[::-1]]\n",
    "\n",
    "i = 0\n",
    "for feature in best_features:\n",
    "    print(feature)\n",
    "    i += 1\n",
    "    if i > 10:\n",
    "        break\n",
    "        \n",
    "        \n"
   ]
  }
 ],
 "metadata": {
  "kernelspec": {
   "display_name": "Python 3",
   "language": "python",
   "name": "python3"
  },
  "language_info": {
   "codemirror_mode": {
    "name": "ipython",
    "version": 3
   },
   "file_extension": ".py",
   "mimetype": "text/x-python",
   "name": "python",
   "nbconvert_exporter": "python",
   "pygments_lexer": "ipython3",
   "version": "3.7.1"
  }
 },
 "nbformat": 4,
 "nbformat_minor": 2
}
