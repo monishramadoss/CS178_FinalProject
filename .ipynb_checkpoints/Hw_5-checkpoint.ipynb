{
 "cells": [
  {
   "cell_type": "code",
   "execution_count": 17,
   "metadata": {},
   "outputs": [
    {
     "name": "stdout",
     "output_type": "stream",
     "text": [
      "[nltk_data] Downloading package reuters to\n",
      "[nltk_data]     C:\\Users\\monish\\AppData\\Roaming\\nltk_data...\n",
      "[nltk_data]   Package reuters is already up-to-date!\n",
      "[nltk_data] Downloading package stopwords to\n",
      "[nltk_data]     C:\\Users\\monish\\AppData\\Roaming\\nltk_data...\n",
      "[nltk_data]   Package stopwords is already up-to-date!\n",
      "[nltk_data] Downloading package punkt to\n",
      "[nltk_data]     C:\\Users\\monish\\AppData\\Roaming\\nltk_data...\n",
      "[nltk_data]   Package punkt is already up-to-date!\n"
     ]
    }
   ],
   "source": [
    "from concurrent import futures\n",
    "import nltk\n",
    "from nltk.corpus import reuters, stopwords\n",
    "from scipy import sparse\n",
    "import string\n",
    "from collections import defaultdict, Counter\n",
    "import numpy as np\n",
    "import os\n",
    "import sys\n",
    "\n",
    "from nltk.tokenize import word_tokenize\n",
    "import sklearn\n",
    "from sklearn import svm\n",
    "from sklearn.cluster import KMeans\n",
    "from sklearn.linear_model import LogisticRegression\n",
    "from sklearn.naive_bayes import BernoulliNB\n",
    "from sklearn.naive_bayes import GaussianNB\n",
    "from sklearn.model_selection import KFold\n",
    "%matplotlib inline\n",
    "import matplotlib.pyplot as plt\n",
    "from nltk.util import ngrams\n",
    "import re\n",
    "NUM_THREADS = 24\n",
    "\n",
    "nltk.download('reuters')\n",
    "nltk.download('stopwords')\n",
    "nltk.download('punkt')\n",
    "\n",
    "reuters_freqThreshold = 5000\n",
    "shakespeare_freqThreshold = 5000"
   ]
  },
  {
   "cell_type": "markdown",
   "metadata": {},
   "source": [
    "## Reuters Data Scrubbing"
   ]
  },
  {
   "cell_type": "code",
   "execution_count": 14,
   "metadata": {
    "scrolled": true
   },
   "outputs": [
    {
     "name": "stdout",
     "output_type": "stream",
     "text": [
      "10788\n"
     ]
    }
   ],
   "source": [
    "all_files = reuters.fileids()\n",
    "file_count = len(all_files)\n",
    "print(len(reuters.fileids()))\n",
    "punctuation = string.punctuation.replace(\"'\", \"\")\n",
    "stopset = set(stopwords.words(\"english\"))\n",
    "\n",
    "def thread_task(rawWords):\n",
    "    freqMap = defaultdict(int)\n",
    "    #convert to lowercase\n",
    "    lower = [word.lower() for word in rawWords]\n",
    "    \n",
    "    #remove punctuation from tokens\n",
    "    punc_filter = str.maketrans('', '', punctuation)\n",
    "    stripped = [word.translate(punc_filter) for word in lower]\n",
    "    \n",
    "    #remove remaining alphanumerics\n",
    "    words = [word for word in stripped if word.isalpha()]\n",
    "    \n",
    "    #filter out basic stopwords\n",
    "    cleaned_word_bank = [word for word in words if word not in stopset]\n",
    "    \n",
    "    for word in cleaned_word_bank:\n",
    "        freqMap[word] += 1\n",
    "    return freqMap\n",
    "\n",
    "def thread_exec(WORDS):\n",
    "    with futures.ThreadPoolExecutor(max_workers=NUM_THREADS) as ex:\n",
    "        results = list(ex.map(thread_task, WORDS))\n",
    "    return results\n"
   ]
  },
  {
   "cell_type": "code",
   "execution_count": 15,
   "metadata": {},
   "outputs": [
    {
     "name": "stdout",
     "output_type": "stream",
     "text": [
      "(5000,)\n"
     ]
    }
   ],
   "source": [
    "freqMap = defaultdict(int)\n",
    "REUTERS_WORDS = [[str(word) for word in reuters.words(file)] for file in reuters.fileids()]\n",
    "t = thread_exec(REUTERS_WORDS)\n",
    "for ifreqMap in t:\n",
    "    for k in ifreqMap.keys():    \n",
    "        freqMap[k] += ifreqMap[k]    \n",
    "        \n",
    "freqTuples = list(freqMap.items())\n",
    "sorted_freq = freqTuples.sort(key= lambda x: x[1], reverse=True)\n",
    "topTuples_r = freqTuples[:reuters_freqThreshold]\n",
    "filtered_vocab = [tup[0] for tup in topTuples_r]\n",
    "reuters_vocab_np = np.asarray(filtered_vocab, dtype='str')\n",
    "print(reuters_vocab_np.shape)"
   ]
  },
  {
   "cell_type": "markdown",
   "metadata": {},
   "source": [
    "## Shakespeare Data Scrubbing"
   ]
  },
  {
   "cell_type": "code",
   "execution_count": 16,
   "metadata": {},
   "outputs": [],
   "source": [
    "folder = './Shake_works'\n",
    "sub = \"[^a-zA-Z' ]+\"\n",
    "all_files = [file for t,y, file in os.walk(folder)][0]\n",
    "stopset = set(stopwords.words(\"english\"))\n",
    "\n",
    "def thread_task(rawWords):\n",
    "    freqMap = defaultdict(int)\n",
    "    words = [re.sub(sub, '', word) for word in rawWords]\n",
    "    lower = [word.lower() for word in words]\n",
    "    words = [word for word in lower if word.isalpha()]\n",
    "    cleaned_word_bank = [word for word in words if word not in stopset]    \n",
    "    \n",
    "    for word in cleaned_word_bank:\n",
    "        freqMap[word] += 1\n",
    "    return freqMap\n",
    "\n",
    "def thread_exec(WORDS):\n",
    "    with futures.ThreadPoolExecutor(max_workers=NUM_THREADS) as ex:\n",
    "        results = list(ex.map(thread_task, WORDS))\n",
    "    return results\n",
    "    "
   ]
  },
  {
   "cell_type": "code",
   "execution_count": 17,
   "metadata": {},
   "outputs": [
    {
     "name": "stdout",
     "output_type": "stream",
     "text": [
      "(5000,)\n"
     ]
    }
   ],
   "source": [
    "freqMap = defaultdict(int)\n",
    "SHAKESPEARE_WORDS = [[str(word) for word in open(folder+'/'+file).read().split()] for file in all_files]\n",
    "t = thread_exec(SHAKESPEARE_WORDS)\n",
    "for ifreqMap in t:\n",
    "    for k in ifreqMap.keys():    \n",
    "        freqMap[k] += ifreqMap[k]   \n",
    "        \n",
    "freqTuples = list(freqMap.items())\n",
    "sorted_freq = freqTuples.sort(key= lambda x: x[1], reverse=True)\n",
    "topTuples_s = freqTuples[:shakespeare_freqThreshold]\n",
    "filtered_vocab = [tup[0] for tup in topTuples_s]\n",
    "shakespeare_vocab_np = np.asarray(filtered_vocab, dtype='str')\n",
    "print(shakespeare_vocab_np.shape)"
   ]
  },
  {
   "cell_type": "markdown",
   "metadata": {},
   "source": [
    "## Outputting top words/frequencies to a file"
   ]
  },
  {
   "cell_type": "code",
   "execution_count": 18,
   "metadata": {},
   "outputs": [],
   "source": [
    "reuters_freq_file = open(\"reuters_frequencies.txt\", \"w+\")\n",
    "shakes_freq_file = open(\"shakes_frequencies.txt\", \"w+\")\n",
    "\n",
    "for tup in topTuples_r:\n",
    "    reuters_freq_file.write(f\"{tup[0]}, {tup[1]}\")\n",
    "for tup in topTuples_s:\n",
    "    shakes_freq_file.write(f\"{tup[0]}, {tup[1]}\")\n",
    "    \n",
    "reuters_freq_file.close()\n",
    "shakes_freq_file.close()"
   ]
  },
  {
   "cell_type": "markdown",
   "metadata": {},
   "source": [
    "# PreProcessing"
   ]
  },
  {
   "cell_type": "code",
   "execution_count": 7,
   "metadata": {},
   "outputs": [
    {
     "name": "stdout",
     "output_type": "stream",
     "text": [
      "(8584,)\n"
     ]
    },
    {
     "data": {
      "application/vnd.jupyter.widget-view+json": {
       "model_id": "6826311874594e4d9267d5f1488395d7",
       "version_major": 2,
       "version_minor": 0
      },
      "text/plain": [
       "VBox(children=(HTML(value=''), IntProgress(value=0, max=42)))"
      ]
     },
     "metadata": {},
     "output_type": "display_data"
    },
    {
     "data": {
      "application/vnd.jupyter.widget-view+json": {
       "model_id": "070c4b5262fe4c3297703679dcf69584",
       "version_major": 2,
       "version_minor": 0
      },
      "text/plain": [
       "VBox(children=(HTML(value=''), IntProgress(value=0, max=10788)))"
      ]
     },
     "metadata": {},
     "output_type": "display_data"
    }
   ],
   "source": [
    "from ipywidgets import IntProgress, HTML, VBox\n",
    "from IPython.display import display\n",
    "\n",
    "vocab = reuters_vocab_np\n",
    "tmp = list()\n",
    "for word in shakespeare_vocab_np:\n",
    "    if(word not in vocab):\n",
    "        tmp.append(word)\n",
    "vocab = np.append(vocab, tmp)\n",
    "print(vocab.shape)\n",
    "\n",
    "\n",
    "shakespeare_data = []\n",
    "i=0\n",
    "punc_filter = str.maketrans('', '', punctuation)\n",
    "progress = IntProgress(min=0, max=len(SHAKESPEARE_WORDS))\n",
    "label = HTML()\n",
    "box = VBox(children=[label, progress])\n",
    "display(box)\n",
    "for doc in SHAKESPEARE_WORDS:\n",
    "    shakespeare_data.append(np.zeros(vocab.shape))\n",
    "    #print(doc)\n",
    "    for word in doc:\n",
    "        word = re.sub(sub,'',word).lower()\n",
    "        shakespeare_data[i][vocab==word] = 1.0\n",
    "    i+=1\n",
    "    progress.value += 1\n",
    "    label.value = u'{name}: {index} / {size}'.format(\n",
    "                        name=\"Docs\",\n",
    "                        index=i,\n",
    "                        size=len(SHAKESPEARE_WORDS)\n",
    "                    )\n",
    "shakespeare_data = np.array(shakespeare_data)   \n",
    "\n",
    "\n",
    "reuters_data = []\n",
    "i=0\n",
    "punc_filter = str.maketrans('', '', punctuation)\n",
    "progress = IntProgress(min=0, max=len(REUTERS_WORDS))\n",
    "label = HTML()\n",
    "box = VBox(children=[label, progress])\n",
    "display(box)\n",
    "for doc in REUTERS_WORDS:\n",
    "    reuters_data.append(np.zeros(vocab.shape))\n",
    "    for word in doc:\n",
    "        word = word.lower()\n",
    "        word = word.translate(punc_filter)\n",
    "        reuters_data[i][vocab==word] = 1.0\n",
    "    i+=1   \n",
    "    progress.value += 1\n",
    "    label.value = u'{name}: {index} / {size}'.format(\n",
    "                        name=\"Docs\",\n",
    "                        index=i,\n",
    "                        size=len(REUTERS_WORDS)\n",
    "                    )\n",
    "reuters_data = np.array(reuters_data)\n"
   ]
  },
  {
   "cell_type": "code",
   "execution_count": 1,
   "metadata": {},
   "outputs": [
    {
     "ename": "NameError",
     "evalue": "name 'shakespeare_data' is not defined",
     "output_type": "error",
     "traceback": [
      "\u001b[1;31m---------------------------------------------------------------------------\u001b[0m",
      "\u001b[1;31mNameError\u001b[0m                                 Traceback (most recent call last)",
      "\u001b[1;32m<ipython-input-1-795f23afb3b6>\u001b[0m in \u001b[0;36m<module>\u001b[1;34m()\u001b[0m\n\u001b[1;32m----> 1\u001b[1;33m \u001b[0mX\u001b[0m \u001b[1;33m=\u001b[0m \u001b[0mshakespeare_data\u001b[0m\u001b[1;33m\u001b[0m\u001b[0m\n\u001b[0m\u001b[0;32m      2\u001b[0m \u001b[0my\u001b[0m \u001b[1;33m=\u001b[0m \u001b[0mnp\u001b[0m\u001b[1;33m.\u001b[0m\u001b[0mzeros\u001b[0m\u001b[1;33m(\u001b[0m\u001b[0mX\u001b[0m\u001b[1;33m.\u001b[0m\u001b[0mshape\u001b[0m\u001b[1;33m[\u001b[0m\u001b[1;36m0\u001b[0m\u001b[1;33m]\u001b[0m\u001b[1;33m)\u001b[0m\u001b[1;33m\u001b[0m\u001b[0m\n\u001b[0;32m      3\u001b[0m \u001b[1;33m\u001b[0m\u001b[0m\n\u001b[0;32m      4\u001b[0m \u001b[0mX\u001b[0m \u001b[1;33m=\u001b[0m \u001b[0mnp\u001b[0m\u001b[1;33m.\u001b[0m\u001b[0mconcatenate\u001b[0m\u001b[1;33m(\u001b[0m\u001b[1;33m(\u001b[0m\u001b[0mX\u001b[0m\u001b[1;33m,\u001b[0m \u001b[0mreuters_data\u001b[0m\u001b[1;33m)\u001b[0m\u001b[1;33m,\u001b[0m \u001b[0maxis\u001b[0m\u001b[1;33m=\u001b[0m\u001b[1;36m0\u001b[0m\u001b[1;33m)\u001b[0m\u001b[1;33m\u001b[0m\u001b[0m\n\u001b[0;32m      5\u001b[0m \u001b[0my\u001b[0m \u001b[1;33m=\u001b[0m \u001b[0mnp\u001b[0m\u001b[1;33m.\u001b[0m\u001b[0mconcatenate\u001b[0m\u001b[1;33m(\u001b[0m\u001b[1;33m(\u001b[0m\u001b[0my\u001b[0m\u001b[1;33m,\u001b[0m \u001b[0mnp\u001b[0m\u001b[1;33m.\u001b[0m\u001b[0mones\u001b[0m\u001b[1;33m(\u001b[0m\u001b[0mreuters_data\u001b[0m\u001b[1;33m.\u001b[0m\u001b[0mshape\u001b[0m\u001b[1;33m[\u001b[0m\u001b[1;36m0\u001b[0m\u001b[1;33m]\u001b[0m\u001b[1;33m)\u001b[0m\u001b[1;33m)\u001b[0m\u001b[1;33m,\u001b[0m \u001b[0maxis\u001b[0m\u001b[1;33m=\u001b[0m\u001b[1;36m0\u001b[0m\u001b[1;33m)\u001b[0m\u001b[1;33m\u001b[0m\u001b[0m\n",
      "\u001b[1;31mNameError\u001b[0m: name 'shakespeare_data' is not defined"
     ]
    }
   ],
   "source": [
    "X = shakespeare_data\n",
    "y = np.zeros(X.shape[0])\n",
    "\n",
    "X = np.concatenate((X, reuters_data), axis=0)\n",
    "y = np.concatenate((y, np.ones(reuters_data.shape[0])), axis=0)\n",
    "\n",
    "vocab = np.array(vocab, dtype=np.string)\n",
    "\n",
    "print(X.shape)\n",
    "print(y.shape)\n",
    "\n",
    "X.dump('X')\n",
    "y.dump('y')\n",
    "vocab.dump('vocab')"
   ]
  },
  {
   "cell_type": "markdown",
   "metadata": {},
   "source": [
    "# Training"
   ]
  },
  {
   "cell_type": "code",
   "execution_count": null,
   "metadata": {},
   "outputs": [],
   "source": [
    "X = np.load('X')\n",
    "y = np.load('y')\n",
    "\n",
    "Model_List = list()\n"
   ]
  },
  {
   "cell_type": "code",
   "execution_count": null,
   "metadata": {},
   "outputs": [],
   "source": [
    "def difference(l1,l2):\n",
    "    precisionError = len([b for a,b in zip(l1,l2) if b != a and b == 0 and a == 1])\n",
    "    recallError = len([b for a,b in zip(l1,l2) if b != a and b == 1 and a == 0])\n",
    "    print(\"Precision Error is \" + str(precisionError))\n",
    "    print(\"Recall Error is \" + str(recallError))\n",
    "\n",
    "    return (precisionError) + (recallError)\n",
    "\n",
    "def runModels(clf, Xtr, Ytr):\n",
    "    kf = KFold(n_splits=5)    \n",
    "    differencesB = []\n",
    "    differencesG = []\n",
    "\n",
    "    for train_index, test_index in kf.split(Xtr):\n",
    "        x_train, x_test = [Xtr[i] for i in train_index], [Xtr[i] for i in test_index]\n",
    "        y_train, y_test = [Ytr[i] for i in train_index], [Ytr[i] for i in test_index]    \n",
    "        clf.fit(x_train,y_train)\n",
    "        print(clf.predict(x_test))\n",
    "        Model_List.append(clf)\n",
    "        differencesB.append(difference(clf.predict(x_test), y_test) / len(y_test))\n",
    "    print()\n",
    "    return differencesB, differencesG"
   ]
  },
  {
   "cell_type": "code",
   "execution_count": null,
   "metadata": {},
   "outputs": [],
   "source": [
    "print(runModels(BernoulliNB(), X, y))\n",
    "print(runModels(GaussianNB(), X, y))\n",
    "#print(runModels)"
   ]
  },
  {
   "cell_type": "markdown",
   "metadata": {},
   "source": [
    "# Validation"
   ]
  },
  {
   "cell_type": "code",
   "execution_count": 34,
   "metadata": {},
   "outputs": [
    {
     "name": "stdout",
     "output_type": "stream",
     "text": [
      "seperating start\n",
      "seperated docs\n",
      "splitting shakespere\n",
      "split shakespere done\n",
      "split shakespere done\n",
      "training\n",
      "[[1. 1. 0. ... 0. 0. 0.]\n",
      " [1. 0. 0. ... 0. 0. 0.]\n",
      " [1. 0. 0. ... 0. 0. 0.]\n",
      " ...\n",
      " [0. 0. 1. ... 0. 0. 0.]\n",
      " [0. 1. 1. ... 0. 0. 0.]\n",
      " [0. 1. 1. ... 0. 0. 0.]]\n"
     ]
    }
   ],
   "source": [
    "# custom k-fold cross validation code\n",
    "# custom k-fold cross validation code\n",
    "\n",
    "# def k_fold(X, Y1, Y2,folds)\n",
    "#     split_size = X.shape[0]//folds\n",
    "#     splits = []\n",
    "#     for i in range(folds):\n",
    "#         start = split_size*i\n",
    "#         end = (split_size*(i+1))\n",
    "#         validation = (X[start:end,], Y[start:end])\n",
    "#         train_x = np.append(X[:start,], X[end:,])\n",
    "#         train_y = np.append(Y[:start],Y[end:])\n",
    "#         training = (np.atleast_2d(train_x).T, train_y)\n",
    "#         splits.append((training, validation))\n",
    "#     return splits\n",
    "\n",
    "fold_error = []\n",
    "print(\"seperating start\")\n",
    "X_s = X[y==0]\n",
    "X_r = X[y==1]\n",
    "\n",
    "Y_s = np.zeros(X_s.shape[0])\n",
    "Y_r = np.ones(X_r.shape[0])\n",
    "\n",
    "print(\"seperated docs\")\n",
    "\n",
    "## 5 -> 8 shakespere docs\n",
    "## 5 -> ~2k reuters docs\n",
    "folds = KFold(n_splits=5, random_state=None, shuffle=False)\n",
    "splits = []\n",
    "training_sx = []\n",
    "training_sy = []\n",
    "\n",
    "validation_sx = []\n",
    "validation_sy = []\n",
    "\n",
    "\n",
    "training_rx = []\n",
    "training_ry = []\n",
    "validation_rx = []\n",
    "validation_ry = []\n",
    "\n",
    "differencesB = []\n",
    "\n",
    "\n",
    "print(\"splitting shakespere\")\n",
    "for train_index, test_index in folds.split(X_s, Y_s):\n",
    "    x_tr, x_validation = X_s[train_index], X_s[test_index]\n",
    "    y_tr, y_validation = Y_s[train_index], Y_s[test_index]\n",
    "    training_sx.append(x_tr)\n",
    "    training_sy.append(y_tr)\n",
    "    validation_sx.append(x_validation) \n",
    "    validation_sy.append(y_validation)\n",
    "print(\"split shakespere done\")\n",
    "    \n",
    "for train_index, test_index in folds.split(X_r, Y_r):\n",
    "    x_tr, x_validation = X_r[train_index], X_r[test_index]\n",
    "    y_tr, y_validation = Y_r[train_index], Y_r[test_index]\n",
    "    training_rx.append(x_tr)\n",
    "    training_ry.append(y_tr)\n",
    "    validation_rx.append(x_validation) \n",
    "    validation_ry.append(y_validation)\n",
    "print(\"split shakespere done\")\n",
    "\n",
    "print(\"training\")\n",
    "\n",
    "print(training_rx[0])\n",
    "def validate(clf, name):\n",
    "    for i in range(len(training_sx)):\n",
    "        training_global_x = (np.concatenate((training_sx[i], training_rx[i]), axis=0))\n",
    "        training_global_y = (np.concatenate((training_sy[i], training_ry[i]), axis=0))\n",
    "        validation_global_x = (np.concatenate((validation_sx[i], validation_rx[i]), axis=0))\n",
    "        validation_global_y = (np.concatenate((validation_sy[i], validation_ry[i]), axis=0))\n",
    "\n",
    "        clf.fit(training_global_x,training_global_y)\n",
    "\n",
    "        pred = (clf.predict(validation_global_x))\n",
    "        print(name, clf.score(validation_global_x, validation_global_y))\n",
    "\n",
    "        if (i == 3):\n",
    "            print(np.where((pred==validation_global_y)==False))\n",
    "        differencesB.append(difference(pred, validation_global_y) / len(validation_global_y))\n",
    "    print()\n",
    "\n",
    "# fold_error.append(cross_validation_error(5, splits))\n",
    "\n"
   ]
  },
  {
   "cell_type": "code",
   "execution_count": 35,
   "metadata": {
    "scrolled": true
   },
   "outputs": [
    {
     "name": "stdout",
     "output_type": "stream",
     "text": [
      "Naive Bayes 1.0\n",
      "Precision Error is 0\n",
      "Recall Error is 0\n",
      "Naive Bayes 1.0\n",
      "Precision Error is 0\n",
      "Recall Error is 0\n",
      "Naive Bayes 1.0\n",
      "Precision Error is 0\n",
      "Recall Error is 0\n",
      "Naive Bayes 0.9995381062355658\n",
      "(array([5], dtype=int64),)\n",
      "Precision Error is 1\n",
      "Recall Error is 0\n",
      "Naive Bayes 1.0\n",
      "Precision Error is 0\n",
      "Recall Error is 0\n",
      "\n",
      "G Naive Bayes 1.0\n",
      "Precision Error is 0\n",
      "Recall Error is 0\n",
      "G Naive Bayes 1.0\n",
      "Precision Error is 0\n",
      "Recall Error is 0\n",
      "G Naive Bayes 1.0\n",
      "Precision Error is 0\n",
      "Recall Error is 0\n",
      "G Naive Bayes 0.9995381062355658\n",
      "(array([5], dtype=int64),)\n",
      "Precision Error is 1\n",
      "Recall Error is 0\n",
      "G Naive Bayes 1.0\n",
      "Precision Error is 0\n",
      "Recall Error is 0\n",
      "\n"
     ]
    }
   ],
   "source": [
    "validate(BernoulliNB(), 'Naive Bayes')\n",
    "validate(GaussianNB(), 'G Naive Bayes')"
   ]
  },
  {
   "cell_type": "markdown",
   "metadata": {},
   "source": [
    "# Prediction"
   ]
  },
  {
   "cell_type": "markdown",
   "metadata": {},
   "source": [
    "### Preparing test documents to classify"
   ]
  },
  {
   "cell_type": "code",
   "execution_count": 36,
   "metadata": {},
   "outputs": [
    {
     "ename": "NameError",
     "evalue": "name 'vocab' is not defined",
     "output_type": "error",
     "traceback": [
      "\u001b[1;31m---------------------------------------------------------------------------\u001b[0m",
      "\u001b[1;31mNameError\u001b[0m                                 Traceback (most recent call last)",
      "\u001b[1;32m<ipython-input-36-4af263eab9fc>\u001b[0m in \u001b[0;36m<module>\u001b[1;34m()\u001b[0m\n\u001b[0;32m     14\u001b[0m \u001b[1;33m\u001b[0m\u001b[0m\n\u001b[0;32m     15\u001b[0m \u001b[1;33m\u001b[0m\u001b[0m\n\u001b[1;32m---> 16\u001b[1;33m \u001b[0msparse_R\u001b[0m \u001b[1;33m=\u001b[0m \u001b[0mnp\u001b[0m\u001b[1;33m.\u001b[0m\u001b[0mzeros\u001b[0m\u001b[1;33m(\u001b[0m\u001b[0mvocab\u001b[0m\u001b[1;33m.\u001b[0m\u001b[0mshape\u001b[0m\u001b[1;33m)\u001b[0m\u001b[1;33m\u001b[0m\u001b[0m\n\u001b[0m\u001b[0;32m     17\u001b[0m \u001b[0msparse_S\u001b[0m \u001b[1;33m=\u001b[0m \u001b[0mnp\u001b[0m\u001b[1;33m.\u001b[0m\u001b[0mzeros\u001b[0m\u001b[1;33m(\u001b[0m\u001b[0mvocab\u001b[0m\u001b[1;33m.\u001b[0m\u001b[0mshape\u001b[0m\u001b[1;33m)\u001b[0m\u001b[1;33m\u001b[0m\u001b[0m\n\u001b[0;32m     18\u001b[0m \u001b[0msparse_M\u001b[0m \u001b[1;33m=\u001b[0m \u001b[0mnp\u001b[0m\u001b[1;33m.\u001b[0m\u001b[0mzeros\u001b[0m\u001b[1;33m(\u001b[0m\u001b[0mvocab\u001b[0m\u001b[1;33m.\u001b[0m\u001b[0mshape\u001b[0m\u001b[1;33m)\u001b[0m\u001b[1;33m\u001b[0m\u001b[0m\n",
      "\u001b[1;31mNameError\u001b[0m: name 'vocab' is not defined"
     ]
    }
   ],
   "source": [
    "## creating test documents to run classificaiton on\n",
    "all_files = reuters.fileids()\n",
    "\n",
    "# vectors of document tokens\n",
    "test_vectorR = [w.lower() for w in reuters.words(all_files[0])]\n",
    "\n",
    "test_vectorS = [w.lower() for w in SHAKESPEARE_WORDS[0]]\n",
    "\n",
    "test_mergedS =  [w.lower() for w in SHAKESPEARE_WORDS[1]]\n",
    "\n",
    "test_mergedS.extend(test_vectorS)\n",
    "\n",
    "test_mergedS = np.random.choice(test_mergedS, len(SHAKESPEARE_WORDS[1]))\n",
    "\n",
    "\n",
    "sparse_R = np.zeros(vocab.shape)\n",
    "sparse_S = np.zeros(vocab.shape)\n",
    "sparse_M = np.zeros(vocab.shape)\n",
    "\n",
    "# vectorizing array of tokens\n",
    "for w in test_vectorR:\n",
    "    i, = np.where(vocab == w)\n",
    "    sparse_R[i] = 1\n",
    "    \n",
    "for w in test_vectorS:\n",
    "    i, = np.where(vocab == w)\n",
    "    sparse_S[i] = 1\n",
    "    \n",
    "for w in test_mergedS:\n",
    "    i, = np.where(vocab == w)\n",
    "    sparse_M[i] = 1\n",
    "\n",
    "# sanity check\n",
    "print(sparse_M.shape)\n",
    "print(sparse_M)"
   ]
  },
  {
   "cell_type": "markdown",
   "metadata": {},
   "source": [
    "### Classifying the prepared test documents"
   ]
  },
  {
   "cell_type": "code",
   "execution_count": null,
   "metadata": {},
   "outputs": [],
   "source": [
    "X_s = shakespeare_data\n",
    "X_r = reuters_data\n",
    "\n",
    "Y_s = np.zeros(X_s.shape[0])\n",
    "Y_r = np.ones(X_r.shape[0])\n",
    "\n",
    "X = np.concatenate((X_s, X_r), axis=0)\n",
    "Y = np.concatenate((Y_s, Y_r), axis=0)\n",
    "\n",
    "clf = BernoulliNB()\n",
    "clf.fit(X,Y)\n",
    "\n",
    "pred = (clf.predict([sparse_M]))\n",
    "print(pred)"
   ]
  },
  {
   "cell_type": "markdown",
   "metadata": {},
   "source": [
    "# Rare Words"
   ]
  },
  {
   "cell_type": "code",
   "execution_count": null,
   "metadata": {},
   "outputs": [],
   "source": []
  },
  {
   "cell_type": "markdown",
   "metadata": {},
   "source": [
    "# Visualization"
   ]
  },
  {
   "cell_type": "markdown",
   "metadata": {},
   "source": [
    "## Error Rate vs Threshold [work in progress]"
   ]
  },
  {
   "cell_type": "code",
   "execution_count": 18,
   "metadata": {},
   "outputs": [],
   "source": [
    "threshold_values = [100, 1000, 2000, 3000, 5000]\n",
    "\n",
    "# test_vector -> tokenized doc\n",
    "# vocab -> merged vocab\n",
    "def vectorize(test_vector,vocab):\n",
    "    sparse = np.zeros(vocab.shape)\n",
    "    for w in test_vector:\n",
    "        i, = np.where(vocab == w)\n",
    "        sparse[i] = 1\n",
    "    return sparse\n",
    "        \n",
    "        \n",
    "for threshold in threshold_values:\n",
    "    top_s= shakespeare_vocab_np[:threshold]\n",
    "    top_r = reuters_vocab_np[:threshold]\n",
    "    \n",
    "    intersect = np.intersect1d(top_s, top_r)\n",
    "    vocab = np.concatenate((top_s, top_r), axis=0)\n",
    "    vocab = np.array([v for v in vocab if v not in intersect])\n",
    "    \n",
    "   "
   ]
  },
  {
   "cell_type": "markdown",
   "metadata": {},
   "source": [
    "## TSNE Corpus Visualization"
   ]
  },
  {
   "cell_type": "code",
   "execution_count": 19,
   "metadata": {},
   "outputs": [],
   "source": [
    "def process_words(raw_words: 'list of str'):\n",
    "    '''Filters raw word list then returns single string version'''\n",
    "    #convert to lowercase\n",
    "    lower = [word.lower() for word in raw_words]\n",
    "    \n",
    "    #remove punctuation from tokens\n",
    "    punc_filter = str.maketrans('', '', punctuation)\n",
    "    stripped = [word.translate(punc_filter) for word in lower]\n",
    "    \n",
    "    #remove remaining alphanumerics\n",
    "    words = [word for word in stripped if word.isalpha()]\n",
    "    \n",
    "    #filter out basic stopwords\n",
    "    cleaned_word_bank = [word + ' ' for word in words if word not in stopset]\n",
    "    return ''.join(cleaned_word_bank)\n"
   ]
  },
  {
   "cell_type": "code",
<<<<<<< HEAD
   "execution_count": 28,
=======
   "execution_count": 20,
>>>>>>> 4101d91ff3077c2aeb365aac76aeca349d7712a6
   "metadata": {},
   "outputs": [],
   "source": [
    "from yellowbrick.text import TSNEVisualizer\n",
    "from sklearn.feature_extraction.text import TfidfVectorizer\n",
    "from sklearn.datasets.base import Bunch\n",
    "from yellowbrick.style import set_palette\n",
    "\n",
    "folder = './Shake_works'\n",
    "all_files = [file for t,y, file in os.walk(folder)][0]\n",
    "punctuation = string.punctuation.replace(\"'\", \"\")\n",
    "stopset = set(stopwords.words(\"english\"))\n",
    "\n",
    "# Load raw text data and labels simultaneously\n",
    "data = []\n",
    "labels = []\n",
    "\n",
    "\n",
    "subset = np.random.choice(reuters.fileids(), 158)\n",
    "# Reuters\n",
    "for file in subset:\n",
    "    raw_words = [str(word) for word in reuters.words(file)]\n",
    "    processed = process_words(raw_words)\n",
    "    data.append(processed)\n",
    "    labels.append('Reuters')\n",
    "    \n",
    "# Shakespeare\n",
    "for file in all_files:\n",
    "    raw_words = [str(word) for word in open(folder+'/'+file).read().split()]\n",
    "    processed = process_words(raw_words)\n",
    "    data.append(processed)\n",
    "    labels.append('Shakespeare')\n",
    "\n",
    "corpus = Bunch(\n",
    "    data=data,\n",
    "    target=labels\n",
    ")"
   ]
  },
  {
   "cell_type": "code",
<<<<<<< HEAD
   "execution_count": 29,
=======
   "execution_count": 21,
>>>>>>> 4101d91ff3077c2aeb365aac76aeca349d7712a6
   "metadata": {},
   "outputs": [
    {
     "data": {
<<<<<<< HEAD
      "image/png": "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\n",
=======
      "image/png": "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\n",
>>>>>>> 4101d91ff3077c2aeb365aac76aeca349d7712a6
      "text/plain": [
       "<Figure size 432x288 with 1 Axes>"
      ]
     },
     "metadata": {},
     "output_type": "display_data"
    }
   ],
   "source": [
    "# Fit tf-idf vectorizer\n",
    "TF_IDF = TfidfVectorizer()\n",
    "docs = TF_IDF.fit_transform(corpus.data)\n",
    "\n",
    "# Set color palette for plotting\n",
    "set_palette('sns_dark')\n",
    "\n",
    "# Construct visualizer and draw vectors\n",
    "tsne = TSNEVisualizer(colors=('r','b'))\n",
    "tsne.fit(docs, corpus.target)\n",
    "tsne.poof()\n"
   ]
  },
  {
   "cell_type": "code",
   "execution_count": null,
   "metadata": {},
   "outputs": [],
   "source": []
  },
  {
   "cell_type": "code",
   "execution_count": null,
   "metadata": {},
   "outputs": [],
   "source": []
  },
  {
   "cell_type": "code",
   "execution_count": null,
   "metadata": {},
   "outputs": [],
   "source": []
  },
  {
   "cell_type": "code",
   "execution_count": null,
   "metadata": {},
   "outputs": [],
   "source": []
  },
  {
   "cell_type": "code",
   "execution_count": null,
   "metadata": {},
   "outputs": [],
   "source": []
  },
  {
   "cell_type": "code",
   "execution_count": null,
   "metadata": {},
   "outputs": [],
   "source": []
  }
 ],
 "metadata": {
  "kernelspec": {
   "display_name": "Python 3",
   "language": "python",
   "name": "python3"
  },
  "language_info": {
   "codemirror_mode": {
    "name": "ipython",
    "version": 3
   },
   "file_extension": ".py",
   "mimetype": "text/x-python",
   "name": "python",
   "nbconvert_exporter": "python",
   "pygments_lexer": "ipython3",
   "version": "3.6.5"
  }
 },
 "nbformat": 4,
 "nbformat_minor": 2
}
