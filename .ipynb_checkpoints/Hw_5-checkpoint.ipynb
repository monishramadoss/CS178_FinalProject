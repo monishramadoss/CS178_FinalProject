{
 "cells": [
  {
   "cell_type": "code",
   "execution_count": 17,
   "metadata": {},
   "outputs": [
    {
     "name": "stdout",
     "output_type": "stream",
     "text": [
      "[nltk_data] Downloading package reuters to\n",
      "[nltk_data]     C:\\Users\\monish\\AppData\\Roaming\\nltk_data...\n",
      "[nltk_data]   Package reuters is already up-to-date!\n",
      "[nltk_data] Downloading package stopwords to\n",
      "[nltk_data]     C:\\Users\\monish\\AppData\\Roaming\\nltk_data...\n",
      "[nltk_data]   Package stopwords is already up-to-date!\n",
      "[nltk_data] Downloading package punkt to\n",
      "[nltk_data]     C:\\Users\\monish\\AppData\\Roaming\\nltk_data...\n",
      "[nltk_data]   Package punkt is already up-to-date!\n"
     ]
    }
   ],
   "source": [
    "from concurrent import futures\n",
    "import nltk\n",
    "from nltk.corpus import reuters, stopwords\n",
    "from scipy import sparse\n",
    "import string\n",
    "from collections import defaultdict, Counter\n",
    "import numpy as np\n",
    "import os\n",
    "import sys\n",
    "\n",
    "from nltk.tokenize import word_tokenize\n",
    "import sklearn\n",
    "from sklearn import svm\n",
    "from sklearn.cluster import KMeans\n",
    "from sklearn.linear_model import LogisticRegression\n",
    "from sklearn.naive_bayes import BernoulliNB\n",
    "from sklearn.naive_bayes import GaussianNB\n",
    "from sklearn.model_selection import KFold\n",
    "%matplotlib inline\n",
    "import matplotlib.pyplot as plt\n",
    "from nltk.util import ngrams\n",
    "import re\n",
    "NUM_THREADS = 24\n",
    "\n",
    "nltk.download('reuters')\n",
    "nltk.download('stopwords')\n",
    "nltk.download('punkt')\n",
    "\n",
    "reuters_freqThreshold = 5000\n",
    "shakespeare_freqThreshold = 5000"
   ]
  },
  {
   "cell_type": "markdown",
   "metadata": {},
   "source": [
    "## Reuters Data Scrubbing"
   ]
  },
  {
   "cell_type": "code",
   "execution_count": 14,
   "metadata": {
    "scrolled": true
   },
   "outputs": [
    {
     "name": "stdout",
     "output_type": "stream",
     "text": [
      "10788\n"
     ]
    }
   ],
   "source": [
    "all_files = reuters.fileids()\n",
    "file_count = len(all_files)\n",
    "print(len(reuters.fileids()))\n",
    "punctuation = string.punctuation.replace(\"'\", \"\")\n",
    "stopset = set(stopwords.words(\"english\"))\n",
    "\n",
    "def thread_task(rawWords):\n",
    "    freqMap = defaultdict(int)\n",
    "    #convert to lowercase\n",
    "    lower = [word.lower() for word in rawWords]\n",
    "    \n",
    "    #remove punctuation from tokens\n",
    "    punc_filter = str.maketrans('', '', punctuation)\n",
    "    stripped = [word.translate(punc_filter) for word in lower]\n",
    "    \n",
    "    #remove remaining alphanumerics\n",
    "    words = [word for word in stripped if word.isalpha()]\n",
    "    \n",
    "    #filter out basic stopwords\n",
    "    cleaned_word_bank = [word for word in words if word not in stopset]\n",
    "    \n",
    "    for word in cleaned_word_bank:\n",
    "        freqMap[word] += 1\n",
    "    return freqMap\n",
    "\n",
    "def thread_exec(WORDS):\n",
    "    with futures.ThreadPoolExecutor(max_workers=NUM_THREADS) as ex:\n",
    "        results = list(ex.map(thread_task, WORDS))\n",
    "    return results\n"
   ]
  },
  {
   "cell_type": "code",
   "execution_count": 24,
   "execution_count": 19,
   "execution_count": 15,
   "metadata": {},
   "outputs": [
    {
     "name": "stdout",
     "output_type": "stream",
     "text": [
      "(5000,)\n"
     ]
    }
   ],
   "source": [
    "freqMap = defaultdict(int)\n",
    "REUTERS_WORDS = [[str(word) for word in reuters.words(file)] for file in reuters.fileids()]\n",
    "t = thread_exec(REUTERS_WORDS)\n",
    "for ifreqMap in t:\n",
    "    for k in ifreqMap.keys():    \n",
    "        freqMap[k] += ifreqMap[k]    \n",
    "        \n",
    "freqTuples = list(freqMap.items())\n",
    "sorted_freq = freqTuples.sort(key= lambda x: x[1], reverse=True)\n",
    "topTuples_r = freqTuples[:reuters_freqThreshold]\n",
    "filtered_vocab = [tup[0] for tup in topTuples_r]\n",
    "reuters_vocab_np = np.asarray(filtered_vocab, dtype='str')\n",
    "print(reuters_vocab_np.shape)"
   ]
  },
  {
   "cell_type": "markdown",
   "metadata": {},
   "source": [
    "## Shakespeare Data Scrubbing"
   ]
  },
  {
   "cell_type": "code",
   "execution_count": 25,
   "execution_count": 21,
   "execution_count": 16,
   "metadata": {},
   "outputs": [],
   "source": [
    "folder = './Shake_works'\n",
    "sub = \"[^a-zA-Z' ]+\"\n",
    "all_files = [file for t,y, file in os.walk(folder)][0]\n",
    "stopset = set(stopwords.words(\"english\"))\n",
    "\n",
    "def thread_task(rawWords):\n",
    "    freqMap = defaultdict(int)\n",
    "    words = [re.sub(sub, '', word) for word in rawWords]\n",
    "    lower = [word.lower() for word in words]\n",
    "    words = [word for word in lower if word.isalpha()]\n",
    "    cleaned_word_bank = [word for word in words if word not in stopset]    \n",
    "    \n",
    "    for word in cleaned_word_bank:\n",
    "        freqMap[word] += 1\n",
    "    return freqMap\n",
    "\n",
    "def thread_exec(WORDS):\n",
    "    with futures.ThreadPoolExecutor(max_workers=NUM_THREADS) as ex:\n",
    "        results = list(ex.map(thread_task, WORDS))\n",
    "    return results\n",
    "    "
   ]
  },
  {
   "cell_type": "code",
   "execution_count": 26,
   "execution_count": 22,
   "execution_count": 17,
   "metadata": {},
   "outputs": [
    {
     "name": "stdout",
     "output_type": "stream",
     "text": [
      "(5000,)\n"
     ]
    }
   ],
   "source": [
    "freqMap = defaultdict(int)\n",
    "SHAKESPEARE_WORDS = [[str(word) for word in open(folder+'/'+file).read().split()] for file in all_files]\n",
    "t = thread_exec(SHAKESPEARE_WORDS)\n",
    "for ifreqMap in t:\n",
    "    for k in ifreqMap.keys():    \n",
    "        freqMap[k] += ifreqMap[k]   \n",
    "        \n",
    "freqTuples = list(freqMap.items())\n",
    "sorted_freq = freqTuples.sort(key= lambda x: x[1], reverse=True)\n",
    "topTuples_s = freqTuples[:shakespeare_freqThreshold]\n",
    "filtered_vocab = [tup[0] for tup in topTuples_s]\n",
    "shakespeare_vocab_np = np.asarray(filtered_vocab, dtype='str')\n",
    "print(shakespeare_vocab_np.shape)"
   ]
  },
  {
   "cell_type": "markdown",
   "metadata": {},
   "source": [
    "## Outputting top words/frequencies to a file"
   ]
  },
  {
   "cell_type": "code",
   "execution_count": 18,
   "metadata": {},
   "outputs": [],
   "source": [
    "reuters_freq_file = open(\"reuters_frequencies.txt\", \"w+\")\n",
    "shakes_freq_file = open(\"shakes_frequencies.txt\", \"w+\")\n",
    "\n",
    "for tup in topTuples_r:\n",
    "    reuters_freq_file.write(f\"{tup[0]}, {tup[1]}\")\n",
    "for tup in topTuples_s:\n",
    "    shakes_freq_file.write(f\"{tup[0]}, {tup[1]}\")\n",
    "    \n",
    "reuters_freq_file.close()\n",
    "shakes_freq_file.close()"
   ]
  },
  {
   "cell_type": "markdown",
   "metadata": {},
   "source": [
    "# PreProcessing"
   ]
  },
  {
   "cell_type": "code",
   "execution_count": 7,
   "metadata": {},
   "outputs": [
    {
     "name": "stdout",
     "output_type": "stream",
     "text": [
      "(8584,)\n"
     ]
    },
    {
     "data": {
      "application/vnd.jupyter.widget-view+json": {
       "model_id": "6826311874594e4d9267d5f1488395d7",
       "version_major": 2,
       "version_minor": 0
      },
      "text/plain": [
       "VBox(children=(HTML(value=''), IntProgress(value=0, max=42)))"
      ]
     },
     "metadata": {},
     "output_type": "display_data"
    },
    {
     "data": {
      "application/vnd.jupyter.widget-view+json": {
       "model_id": "070c4b5262fe4c3297703679dcf69584",
       "version_major": 2,
       "version_minor": 0
      },
      "text/plain": [
       "VBox(children=(HTML(value=''), IntProgress(value=0, max=10788)))"
      ]
     },
     "metadata": {},
     "output_type": "display_data"
    }
   ],
   "source": [
    "from ipywidgets import IntProgress, HTML, VBox\n",
    "from IPython.display import display\n",
    "\n",
    "vocab = reuters_vocab_np\n",
    "tmp = list()\n",
    "for word in shakespeare_vocab_np:\n",
    "    if(word not in vocab):\n",
    "        tmp.append(word)\n",
    "vocab = np.append(vocab, tmp)\n",
    "print(vocab.shape)\n",
    "\n",
    "\n",
    "shakespeare_data = []\n",
    "i=0\n",
    "punc_filter = str.maketrans('', '', punctuation)\n",
    "progress = IntProgress(min=0, max=len(SHAKESPEARE_WORDS))\n",
    "label = HTML()\n",
    "box = VBox(children=[label, progress])\n",
    "display(box)\n",
    "for doc in SHAKESPEARE_WORDS:\n",
    "    shakespeare_data.append(np.zeros(vocab.shape))\n",
    "    #print(doc)\n",
    "    for word in doc:\n",
    "        word = re.sub(sub,'',word).lower()\n",
    "        shakespeare_data[i][vocab==word] = 1.0\n",
    "    i+=1\n",
    "    progress.value += 1\n",
    "    label.value = u'{name}: {index} / {size}'.format(\n",
    "                        name=\"Docs\",\n",
    "                        index=i,\n",
    "                        size=len(SHAKESPEARE_WORDS)\n",
    "                    )\n",
    "shakespeare_data = np.array(shakespeare_data)   \n",
    "\n",
    "\n",
    "reuters_data = []\n",
    "i=0\n",
    "punc_filter = str.maketrans('', '', punctuation)\n",
    "progress = IntProgress(min=0, max=len(REUTERS_WORDS))\n",
    "label = HTML()\n",
    "box = VBox(children=[label, progress])\n",
    "display(box)\n",
    "for doc in REUTERS_WORDS:\n",
    "    reuters_data.append(np.zeros(vocab.shape))\n",
    "    for word in doc:\n",
    "        word = word.lower()\n",
    "        word = word.translate(punc_filter)\n",
    "        reuters_data[i][vocab==word] = 1.0\n",
    "    i+=1   \n",
    "    progress.value += 1\n",
    "    label.value = u'{name}: {index} / {size}'.format(\n",
    "                        name=\"Docs\",\n",
    "                        index=i,\n",
    "                        size=len(REUTERS_WORDS)\n",
    "                    )\n",
    "reuters_data = np.array(reuters_data)\n"
   ]
  },
  {
   "cell_type": "code",
   "execution_count": 30,
   "metadata": {},
   "outputs": [
    {
     "ename": "NameError",
     "evalue": "name 'shakespeare_data' is not defined",
     "output_type": "error",
     "traceback": [
      "\u001b[1;31m---------------------------------------------------------------------------\u001b[0m",
      "\u001b[1;31mNameError\u001b[0m                                 Traceback (most recent call last)",
      "\u001b[1;32m<ipython-input-30-af0c72d217e8>\u001b[0m in \u001b[0;36m<module>\u001b[1;34m()\u001b[0m\n\u001b[1;32m----> 1\u001b[1;33m \u001b[0mX\u001b[0m \u001b[1;33m=\u001b[0m \u001b[0mshakespeare_data\u001b[0m\u001b[1;33m\u001b[0m\u001b[0m\n\u001b[0m\u001b[0;32m      2\u001b[0m \u001b[0my\u001b[0m \u001b[1;33m=\u001b[0m \u001b[0mnp\u001b[0m\u001b[1;33m.\u001b[0m\u001b[0mzeros\u001b[0m\u001b[1;33m(\u001b[0m\u001b[0mX\u001b[0m\u001b[1;33m.\u001b[0m\u001b[0mshape\u001b[0m\u001b[1;33m[\u001b[0m\u001b[1;36m0\u001b[0m\u001b[1;33m]\u001b[0m\u001b[1;33m)\u001b[0m\u001b[1;33m\u001b[0m\u001b[0m\n\u001b[0;32m      3\u001b[0m \u001b[1;33m\u001b[0m\u001b[0m\n\u001b[0;32m      4\u001b[0m \u001b[0mX\u001b[0m \u001b[1;33m=\u001b[0m \u001b[0mnp\u001b[0m\u001b[1;33m.\u001b[0m\u001b[0mconcatenate\u001b[0m\u001b[1;33m(\u001b[0m\u001b[1;33m(\u001b[0m\u001b[0mX\u001b[0m\u001b[1;33m,\u001b[0m \u001b[0mreuters_data\u001b[0m\u001b[1;33m)\u001b[0m\u001b[1;33m,\u001b[0m \u001b[0maxis\u001b[0m\u001b[1;33m=\u001b[0m\u001b[1;36m0\u001b[0m\u001b[1;33m)\u001b[0m\u001b[1;33m\u001b[0m\u001b[0m\n\u001b[0;32m      5\u001b[0m \u001b[0my\u001b[0m \u001b[1;33m=\u001b[0m \u001b[0mnp\u001b[0m\u001b[1;33m.\u001b[0m\u001b[0mconcatenate\u001b[0m\u001b[1;33m(\u001b[0m\u001b[1;33m(\u001b[0m\u001b[0my\u001b[0m\u001b[1;33m,\u001b[0m \u001b[0mnp\u001b[0m\u001b[1;33m.\u001b[0m\u001b[0mones\u001b[0m\u001b[1;33m(\u001b[0m\u001b[0mreuters_data\u001b[0m\u001b[1;33m.\u001b[0m\u001b[0mshape\u001b[0m\u001b[1;33m[\u001b[0m\u001b[1;36m0\u001b[0m\u001b[1;33m]\u001b[0m\u001b[1;33m)\u001b[0m\u001b[1;33m)\u001b[0m\u001b[1;33m,\u001b[0m \u001b[0maxis\u001b[0m\u001b[1;33m=\u001b[0m\u001b[1;36m0\u001b[0m\u001b[1;33m)\u001b[0m\u001b[1;33m\u001b[0m\u001b[0m\n",
      "\u001b[1;31mNameError\u001b[0m: name 'shakespeare_data' is not defined"
     ]
    }
   ],
   "source": [
    "X = shakespeare_data\n",
    "y = np.zeros(X.shape[0])\n",
    "\n",
    "X = np.concatenate((X, reuters_data), axis=0)\n",
    "y = np.concatenate((y, np.ones(reuters_data.shape[0])), axis=0)\n",
    "\n",
    "print(X.shape)\n",
    "print(y.shape)\n",
    "\n",
    "X.dump('X')\n",
    "y.dump('y')\n"
   ]
  },
  {
   "cell_type": "markdown",
   "metadata": {},
   "source": [
    "# Training"
   ]
  },
  {
   "cell_type": "code",
   "execution_count": null,
   "metadata": {},
   "outputs": [],
   "source": [
    "X = np.load('X')\n",
    "y = np.load('y')\n",
    "\n",
    "Model_List = list()\n"
   ]
  },
  {
   "cell_type": "code",
   "execution_count": null,
   "metadata": {},
   "outputs": [],
   "source": [
    "def difference(l1,l2):\n",
    "    precisionError = len([b for a,b in zip(l1,l2) if b != a and b == 0 and a == 1])\n",
    "    recallError = len([b for a,b in zip(l1,l2) if b != a and b == 1 and a == 0])\n",
    "    print(\"Precision Error is \" + str(precisionError))\n",
    "    print(\"Recall Error is \" + str(recallError))\n",
    "\n",
    "    return (precisionError) + (recallError)\n",
    "\n",
    "def runModels(clf, Xtr, Ytr):\n",
    "    kf = KFold(n_splits=5)    \n",
    "    differencesB = []\n",
    "    differencesG = []\n",
    "\n",
    "    for train_index, test_index in kf.split(Xtr):\n",
    "        x_train, x_test = [Xtr[i] for i in train_index], [Xtr[i] for i in test_index]\n",
    "        y_train, y_test = [Ytr[i] for i in train_index], [Ytr[i] for i in test_index]    \n",
    "        clf.fit(x_train,y_train)\n",
    "        print(clf.predict(x_test))\n",
    "        Model_List.append(clf)\n",
    "        differencesB.append(difference(clf.predict(x_test), y_test) / len(y_test))\n",
    "    print()\n",
    "    return differencesB, differencesG"
   ]
  },
  {
   "cell_type": "code",
   "execution_count": null,
   "metadata": {},
   "outputs": [],
   "source": [
    "print(runModels(BernoulliNB(), X, y))\n",
    "print(runModels(GaussianNB(), X, y))\n",
    "#print(runModels)"
   ]
  },
  {
   "cell_type": "markdown",
   "metadata": {},
   "source": [
    "# Validation"
   ]
  },
  {
   "cell_type": "code",
   "execution_count": 34,
   "metadata": {},
   "outputs": [
    {
     "name": "stdout",
     "output_type": "stream",
     "text": [
      "seperating start\n",
      "seperated docs\n",
      "splitting shakespere\n",
      "split shakespere done\n",
      "split shakespere done\n",
      "training\n",
      "[[1. 1. 0. ... 0. 0. 0.]\n",
      " [1. 0. 0. ... 0. 0. 0.]\n",
      " [1. 0. 0. ... 0. 0. 0.]\n",
      " ...\n",
      " [0. 0. 1. ... 0. 0. 0.]\n",
      " [0. 1. 1. ... 0. 0. 0.]\n",
      " [0. 1. 1. ... 0. 0. 0.]]\n"
     ]
    }
   ],
   "source": [
    "# custom k-fold cross validation code\n",
    "# custom k-fold cross validation code\n",
    "\n",
    "# def k_fold(X, Y1, Y2,folds)\n",
    "#     split_size = X.shape[0]//folds\n",
    "#     splits = []\n",
    "#     for i in range(folds):\n",
    "#         start = split_size*i\n",
    "#         end = (split_size*(i+1))\n",
    "#         validation = (X[start:end,], Y[start:end])\n",
    "#         train_x = np.append(X[:start,], X[end:,])\n",
    "#         train_y = np.append(Y[:start],Y[end:])\n",
    "#         training = (np.atleast_2d(train_x).T, train_y)\n",
    "#         splits.append((training, validation))\n",
    "#     return splits\n",
    "\n",
    "fold_error = []\n",
    "print(\"seperating start\")\n",
    "X_s = X[y==0]\n",
    "X_r = X[y==1]\n",
    "\n",
    "Y_s = np.zeros(X_s.shape[0])\n",
    "Y_r = np.ones(X_r.shape[0])\n",
    "\n",
    "print(\"seperated docs\")\n",
    "\n",
    "## 5 -> 8 shakespere docs\n",
    "## 5 -> ~2k reuters docs\n",
    "folds = KFold(n_splits=5, random_state=None, shuffle=False)\n",
    "splits = []\n",
    "training_sx = []\n",
    "training_sy = []\n",
    "\n",
    "validation_sx = []\n",
    "validation_sy = []\n",
    "\n",
    "\n",
    "training_rx = []\n",
    "training_ry = []\n",
    "validation_rx = []\n",
    "validation_ry = []\n",
    "\n",
    "differencesB = []\n",
    "\n",
    "\n",
    "print(\"splitting shakespere\")\n",
    "for train_index, test_index in folds.split(X_s, Y_s):\n",
    "    x_tr, x_validation = X_s[train_index], X_s[test_index]\n",
    "    y_tr, y_validation = Y_s[train_index], Y_s[test_index]\n",
    "    training_sx.append(x_tr)\n",
    "    training_sy.append(y_tr)\n",
    "    validation_sx.append(x_validation) \n",
    "    validation_sy.append(y_validation)\n",
    "print(\"split shakespere done\")\n",
    "    \n",
    "for train_index, test_index in folds.split(X_r, Y_r):\n",
    "    x_tr, x_validation = X_r[train_index], X_r[test_index]\n",
    "    y_tr, y_validation = Y_r[train_index], Y_r[test_index]\n",
    "    training_rx.append(x_tr)\n",
    "    training_ry.append(y_tr)\n",
    "    validation_rx.append(x_validation) \n",
    "    validation_ry.append(y_validation)\n",
    "print(\"split shakespere done\")\n",
    "\n",
    "print(\"training\")\n",
    "\n",
    "print(training_rx[0])\n",
    "def validate(clf, name):\n",
    "    for i in range(len(training_sx)):\n",
    "        training_global_x = (np.concatenate((training_sx[i], training_rx[i]), axis=0))\n",
    "        training_global_y = (np.concatenate((training_sy[i], training_ry[i]), axis=0))\n",
    "        validation_global_x = (np.concatenate((validation_sx[i], validation_rx[i]), axis=0))\n",
    "        validation_global_y = (np.concatenate((validation_sy[i], validation_ry[i]), axis=0))\n",
    "\n",
    "        clf.fit(training_global_x,training_global_y)\n",
    "\n",
    "        pred = (clf.predict(validation_global_x))\n",
    "        print(name, clf.score(validation_global_x, validation_global_y))\n",
    "\n",
    "        if (i == 3):\n",
    "            print(np.where((pred==validation_global_y)==False))\n",
    "        differencesB.append(difference(pred, validation_global_y) / len(validation_global_y))\n",
    "    print()\n",
    "\n",
    "# fold_error.append(cross_validation_error(5, splits))\n",
    "\n"
   ]
  },
  {
   "cell_type": "code",
   "execution_count": 35,
   "metadata": {
    "scrolled": true
   },
   "outputs": [
    {
     "name": "stdout",
     "output_type": "stream",
     "text": [
      "Naive Bayes 1.0\n",
      "Precision Error is 0\n",
      "Recall Error is 0\n",
      "Naive Bayes 1.0\n",
      "Precision Error is 0\n",
      "Recall Error is 0\n",
      "Naive Bayes 1.0\n",
      "Precision Error is 0\n",
      "Recall Error is 0\n",
      "Naive Bayes 0.9995381062355658\n",
      "(array([5], dtype=int64),)\n",
      "Precision Error is 1\n",
      "Recall Error is 0\n",
      "Naive Bayes 1.0\n",
      "Precision Error is 0\n",
      "Recall Error is 0\n",
      "\n",
      "G Naive Bayes 1.0\n",
      "Precision Error is 0\n",
      "Recall Error is 0\n",
      "G Naive Bayes 1.0\n",
      "Precision Error is 0\n",
      "Recall Error is 0\n",
      "G Naive Bayes 1.0\n",
      "Precision Error is 0\n",
      "Recall Error is 0\n",
      "G Naive Bayes 0.9995381062355658\n",
      "(array([5], dtype=int64),)\n",
      "Precision Error is 1\n",
      "Recall Error is 0\n",
      "G Naive Bayes 1.0\n",
      "Precision Error is 0\n",
      "Recall Error is 0\n",
      "\n"
     ]
    }
   ],
   "source": [
    "validate(BernoulliNB(), 'Naive Bayes')\n",
    "validate(GaussianNB(), 'G Naive Bayes')"
   ]
  },
  {
   "cell_type": "markdown",
   "metadata": {},
   "source": [
    "# Prediction"
   ]
  },
  {
   "cell_type": "markdown",
   "metadata": {},
   "source": [
    "### Preparing test documents to classify"
   ]
  },
  {
   "cell_type": "code",
   "execution_count": 36,
   "metadata": {},
   "outputs": [
    {
     "ename": "NameError",
     "evalue": "name 'vocab' is not defined",
     "output_type": "error",
     "traceback": [
      "\u001b[1;31m---------------------------------------------------------------------------\u001b[0m",
      "\u001b[1;31mNameError\u001b[0m                                 Traceback (most recent call last)",
      "\u001b[1;32m<ipython-input-36-4af263eab9fc>\u001b[0m in \u001b[0;36m<module>\u001b[1;34m()\u001b[0m\n\u001b[0;32m     14\u001b[0m \u001b[1;33m\u001b[0m\u001b[0m\n\u001b[0;32m     15\u001b[0m \u001b[1;33m\u001b[0m\u001b[0m\n\u001b[1;32m---> 16\u001b[1;33m \u001b[0msparse_R\u001b[0m \u001b[1;33m=\u001b[0m \u001b[0mnp\u001b[0m\u001b[1;33m.\u001b[0m\u001b[0mzeros\u001b[0m\u001b[1;33m(\u001b[0m\u001b[0mvocab\u001b[0m\u001b[1;33m.\u001b[0m\u001b[0mshape\u001b[0m\u001b[1;33m)\u001b[0m\u001b[1;33m\u001b[0m\u001b[0m\n\u001b[0m\u001b[0;32m     17\u001b[0m \u001b[0msparse_S\u001b[0m \u001b[1;33m=\u001b[0m \u001b[0mnp\u001b[0m\u001b[1;33m.\u001b[0m\u001b[0mzeros\u001b[0m\u001b[1;33m(\u001b[0m\u001b[0mvocab\u001b[0m\u001b[1;33m.\u001b[0m\u001b[0mshape\u001b[0m\u001b[1;33m)\u001b[0m\u001b[1;33m\u001b[0m\u001b[0m\n\u001b[0;32m     18\u001b[0m \u001b[0msparse_M\u001b[0m \u001b[1;33m=\u001b[0m \u001b[0mnp\u001b[0m\u001b[1;33m.\u001b[0m\u001b[0mzeros\u001b[0m\u001b[1;33m(\u001b[0m\u001b[0mvocab\u001b[0m\u001b[1;33m.\u001b[0m\u001b[0mshape\u001b[0m\u001b[1;33m)\u001b[0m\u001b[1;33m\u001b[0m\u001b[0m\n",
      "\u001b[1;31mNameError\u001b[0m: name 'vocab' is not defined"
     ]
    }
   ],
   "source": [
    "## creating test documents to run classificaiton on\n",
    "all_files = reuters.fileids()\n",
    "\n",
    "# vectors of document tokens\n",
    "test_vectorR = [w.lower() for w in reuters.words(all_files[0])]\n",
    "\n",
    "test_vectorS = [w.lower() for w in SHAKESPEARE_WORDS[0]]\n",
    "\n",
    "test_mergedS =  [w.lower() for w in SHAKESPEARE_WORDS[1]]\n",
    "\n",
    "test_mergedS.extend(test_vectorS)\n",
    "\n",
    "test_mergedS = np.random.choice(test_mergedS, len(SHAKESPEARE_WORDS[1]))\n",
    "\n",
    "\n",
    "sparse_R = np.zeros(vocab.shape)\n",
    "sparse_S = np.zeros(vocab.shape)\n",
    "sparse_M = np.zeros(vocab.shape)\n",
    "\n",
    "# vectorizing array of tokens\n",
    "for w in test_vectorR:\n",
    "    i, = np.where(vocab == w)\n",
    "    sparse_R[i] = 1\n",
    "    \n",
    "for w in test_vectorS:\n",
    "    i, = np.where(vocab == w)\n",
    "    sparse_S[i] = 1\n",
    "    \n",
    "for w in test_mergedS:\n",
    "    i, = np.where(vocab == w)\n",
    "    sparse_M[i] = 1\n",
    "\n",
    "# sanity check\n",
    "print(sparse_M.shape)\n",
    "print(sparse_M)"
   ]
  },
  {
   "cell_type": "markdown",
   "metadata": {},
   "source": [
    "### Classifying the prepared test documents"
   ]
  },
  {
   "cell_type": "code",
   "execution_count": null,
   "metadata": {},
   "outputs": [],
   "source": [
    "X_s = shakespeare_data\n",
    "X_r = reuters_data\n",
    "\n",
    "Y_s = np.zeros(X_s.shape[0])\n",
    "Y_r = np.ones(X_r.shape[0])\n",
    "\n",
    "X = np.concatenate((X_s, X_r), axis=0)\n",
    "Y = np.concatenate((Y_s, Y_r), axis=0)\n",
    "\n",
    "clf = BernoulliNB()\n",
    "clf.fit(X,Y)\n",
    "\n",
    "pred = (clf.predict([sparse_M]))\n",
    "print(pred)"
   ]
  },
  {
   "cell_type": "markdown",
   "metadata": {},
   "source": [
    "# Rare Words"
   ]
  },
  {
   "cell_type": "code",
   "execution_count": null,
   "metadata": {},
   "outputs": [],
   "source": []
  },
  {
   "cell_type": "markdown",
   "metadata": {},
   "source": [
    "# Visualization"
   ]
  },
  {
   "cell_type": "markdown",
   "metadata": {},
   "source": [
    "## Error Rate vs Threshold [work in progress]"
   ]
  },
  {
   "cell_type": "code",
   "execution_count": 18,
   "metadata": {},
   "outputs": [],
   "source": [
    "threshold_values = [100, 1000, 2000, 3000, 5000]\n",
    "\n",
    "# test_vector -> tokenized doc\n",
    "# vocab -> merged vocab\n",
    "def vectorize(test_vector,vocab):\n",
    "    sparse = np.zeros(vocab.shape)\n",
    "    for w in test_vector:\n",
    "        i, = np.where(vocab == w)\n",
    "        sparse[i] = 1\n",
    "    return sparse\n",
    "        \n",
    "        \n",
    "for threshold in threshold_values:\n",
    "    top_s= shakespeare_vocab_np[:threshold]\n",
    "    top_r = reuters_vocab_np[:threshold]\n",
    "    \n",
    "    intersect = np.intersect1d(top_s, top_r)\n",
    "    vocab = np.concatenate((top_s, top_r), axis=0)\n",
    "    vocab = np.array([v for v in vocab if v not in intersect])\n",
    "    \n",
    "    for row in shakespeare_data:\n",
    "        "
    "    #for row in shakespeare_data:\n",
    "        "
    "   "
   ]
  },
  {
   "cell_type": "markdown",
   "metadata": {},
   "source": [
    "## TSNE Corpus Visualization"
   ]
  },
  {
   "cell_type": "code",
   "execution_count": 36,
   "execution_count": 2,
   "execution_count": 19,
   "metadata": {},
   "outputs": [],
   "source": [
    "def process_words(raw_words: 'list of str'):\n",
    "    '''Filters raw word list then returns single string version'''\n",
    "    #convert to lowercase\n",
    "    lower = [word.lower() for word in raw_words]\n",
    "    \n",
    "    #remove punctuation from tokens\n",
    "    punc_filter = str.maketrans('', '', punctuation)\n",
    "    stripped = [word.translate(punc_filter) for word in lower]\n",
    "    \n",
    "    #remove remaining alphanumerics\n",
    "    words = [word for word in stripped if word.isalpha()]\n",
    "    \n",
    "    #filter out basic stopwords\n",
    "    cleaned_word_bank = [word + ' ' for word in words if word not in stopset]\n",
    "    return ''.join(cleaned_word_bank)\n"
   ]
  },
  {
   "cell_type": "code",
   "execution_count": 38,
   "execution_count": 15,
   "execution_count": 20,
   "metadata": {},
   "outputs": [],
   "source": [
    "\n",
    "from yellowbrick.text import TSNEVisualizer\n",
    "from sklearn.feature_extraction.text import TfidfVectorizer\n",
    "from sklearn.datasets.base import Bunch\n",
    "from yellowbrick.style import set_palette\n",
    "\n",
    "folder = './works'\n",
    "all_files = [file for t,y, file in os.walk(folder)][0]\n",
    "punctuation = string.punctuation.replace(\"'\", \"\")\n",
    "stopset = set(stopwords.words(\"english\"))\n",
    "\n",
    "# Load raw text data and labels simultaneously\n",
    "data = []\n",
    "labels = []\n",
    "\n",
    "\n",
    "subset = np.random.choice(reuters.fileids(), 158)\n",
    "# Reuters\n",
    "for file in subset:\n",
    "    raw_words = [str(word) for word in reuters.words(file)]\n",
    "    processed = process_words(raw_words)\n",
    "    data.append(processed)\n",
    "    labels.append('Reuters')\n",
    "    \n",
    "# Shakespeare\n",
    "for file in all_files:\n",
    "    raw_words = [str(word) for word in open(folder+'/'+file).read().split()]\n",
    "    processed = process_words(raw_words)\n",
    "    data.append(processed)\n",
    "    labels.append('Shakespeare')\n",
    "\n",
    "corpus = Bunch(\n",
    "    data=data,\n",
    "    target=labels\n",
    ")\n"
   ]
  },
  {
   "cell_type": "code",
   "execution_count": 39,
   "execution_count": 16,
   "execution_count": 21,
   "metadata": {},
   "outputs": [
    {
     "data": {
      "image/png": "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\n",
      "image/png": "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\n",
      "image/png": "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\n",
      "text/plain": [
       "<Figure size 576x396 with 1 Axes>"
      ]
     },
     "metadata": {},
     "output_type": "display_data"
    }
   ],
   "source": [
    "# Fit tf-idf vectorizer\n",
    "TF_IDF = TfidfVectorizer()\n",
    "docs = TF_IDF.fit_transform(corpus.data)\n",
    "\n",
    "# Set color palette for plotting\n",
    "set_palette('sns_dark')\n",
    "\n",
    "# Construct visualizer and draw vectors\n",
    "tsne = TSNEVisualizer(colors=('r','b'))\n",
    "tsne.fit(docs, corpus.target)\n",
    "tsne.poof()\n",
    "    \n"
   ]
  },
  {
   "cell_type": "code",
   "execution_count": null,
   "metadata": {},
   "outputs": [],
   "source": []
  },
  {
   "cell_type": "code",
   "execution_count": null,
   "metadata": {},
   "outputs": [],
   "source": []
  },
  {
   "cell_type": "code",
   "execution_count": null,
   "metadata": {},
   "outputs": [],
   "source": []
  },
  {
   "cell_type": "code",
   "execution_count": null,
   "metadata": {},
   "outputs": [],
   "source": []
  },
  {
   "cell_type": "code",
   "execution_count": null,
   "metadata": {},
   "outputs": [],
   "source": []
  },
  {
   "cell_type": "code",
   "execution_count": null,
   "metadata": {},
   "outputs": [],
   "source": []
  }
 ],
 "metadata": {
  "kernelspec": {
   "display_name": "Python 3",
   "language": "python",
   "name": "python3"
  },
  "language_info": {
   "codemirror_mode": {
    "name": "ipython",
    "version": 3
   },
   "file_extension": ".py",
   "mimetype": "text/x-python",
   "name": "python",
   "nbconvert_exporter": "python",
   "pygments_lexer": "ipython3",
   "version": "3.6.5"
  }
 },
 "nbformat": 4,
 "nbformat_minor": 2
}
